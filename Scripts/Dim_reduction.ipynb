{
 "cells": [
  {
   "cell_type": "code",
   "execution_count": 1,
   "metadata": {},
   "outputs": [],
   "source": [
    "import pandas as pd\n",
    "from catboost import CatBoostClassifier\n",
    "from sklearn.model_selection import train_test_split\n",
    "from catboost import Pool, cv\n",
    "random_state = 7\n",
    "import time\n",
    "from sklearn.model_selection import StratifiedKFold\n",
    "from sklearn.metrics import f1_score\n",
    "import os\n",
    "from sklearn.metrics import roc_auc_score\n",
    "from sklearn.metrics import confusion_matrix\n",
    "import warnings\n",
    "import numpy as np\n",
    "warnings.filterwarnings(\"ignore\")"
   ]
  },
  {
   "cell_type": "code",
   "execution_count": 2,
   "metadata": {},
   "outputs": [],
   "source": [
    "def find_intersection(tr, ts, iterations, learning_rate,depth, no_genes=100):\n",
    "       # get current directory\n",
    "    path = os.getcwd()\n",
    "    parent = os.path.dirname(path)\n",
    "\n",
    "    train = pd.read_csv(parent + '\\Data\\\\' + tr + \".csv\")\n",
    "    test = pd.read_csv(parent + '\\Data\\\\' + ts + \".csv\")\n",
    "    \n",
    "    X_train = train.drop(\"target\", axis=1)\n",
    "    y_train = train[\"target\"]\n",
    "    \n",
    "    X_test  = test.drop(\"target\", axis=1)\n",
    "    y_test = test[\"target\"]\n",
    "    \n",
    "        # initialize Pool\n",
    "    train_pool = Pool(X_train, \n",
    "                      y_train)\n",
    "        # initialize Pool\n",
    "    test_pool = Pool(X_test, \n",
    "                      y_test)\n",
    "    \n",
    "    start_time = time.time()\n",
    "\n",
    "    model = CatBoostClassifier(iterations=iterations,\n",
    "                           depth=depth,\n",
    "                           learning_rate=learning_rate,\n",
    "                           loss_function='Logloss',\n",
    "                           verbose=False)\n",
    "\n",
    "    model.fit(train_pool)\n",
    "    print(\"--- %s seconds ---\" % (time.time() - start_time))\n",
    "    \n",
    "    LossFunctionChange = CatBoostClassifier.get_feature_importance(model, type=\"LossFunctionChange\",data=test_pool)\n",
    "    ind_LossFunctionChange = np.argpartition(LossFunctionChange, -no_genes)[-no_genes:]\n",
    "    df_loss_function = pd.DataFrame()\n",
    "    df_loss_function[\"feature\"] = list(X_train.columns)\n",
    "    df_loss_function[\"importance\"] = LossFunctionChange\n",
    "    df_loss_function= df_loss_function.sort_values(by = \"importance\", ascending = False)\n",
    "    \n",
    "    PredictionValuesChange = CatBoostClassifier.get_feature_importance(model)\n",
    "    ind_PredictionValuesChange = np.argpartition(PredictionValuesChange, -no_genes)[-no_genes:]\n",
    "    \n",
    "    df_pred_value = pd.DataFrame()\n",
    "    df_pred_value[\"feature\"] = list(X_train.columns)\n",
    "    df_pred_value[\"importance\"] = PredictionValuesChange\n",
    "    df_pred_value = df_pred_value.sort_values(by = \"importance\", ascending = False)\n",
    "    \n",
    "    intersection = (X_train.columns[(np.intersect1d(ind_PredictionValuesChange, ind_LossFunctionChange))])\n",
    "    return df_loss_function, df_pred_value, intersection\n",
    "    "
   ]
  },
  {
   "cell_type": "code",
   "execution_count": 22,
   "metadata": {},
   "outputs": [
    {
     "name": "stdout",
     "output_type": "stream",
     "text": [
      "--- 111.49928045272827 seconds ---\n"
     ]
    }
   ],
   "source": [
    "# tr = \"trainset_AMLvsALL_90_target_in\"\n",
    "# ts = \"testset_AMLvsALL_10_target_in\"\n",
    "\n",
    "tr = \"trainset_ALLvsHealhy_80_target_in\"\n",
    "ts = \"testset_ALLvsHealthy_20_target_in\" \n",
    "\n",
    "no_genes = 75\n",
    "\n",
    "# a,b,c = find_intersection(tr, ts, 200, 0.4, 4, no_genes )\n",
    "a,b,c = find_intersection(tr, ts, 150, 0.1, 5, no_genes )"
   ]
  },
  {
   "cell_type": "code",
   "execution_count": 23,
   "metadata": {},
   "outputs": [
    {
     "name": "stdout",
     "output_type": "stream",
     "text": [
      "Index(['SOX4', 'SCRN1', 'PRCP', 'TGFBI', 'TSPAN7', 'SYNE2', 'LY75-CD302',\n",
      "       'MPO', 'SMARCD3', 'WASF1', 'MYL6B', 'MRC1', 'KIAA0513', 'MYB', 'JADE3',\n",
      "       'LCK', 'CLDN10', 'BPI', 'MEOX1', 'EREG', 'RHAG', 'CSRP2', 'BTN1A1',\n",
      "       'SPP1', 'FCER1A', 'ELN', 'PIK3CB', 'PFAS', 'ZNF423', 'IGHV5-51', 'ADA',\n",
      "       'KIAA0930', 'SPG21', 'TPCN1', 'REXO4', 'ZBTB38', 'ARPP21', 'KLHL3',\n",
      "       'ABHD2'],\n",
      "      dtype='object')\n",
      "39\n"
     ]
    }
   ],
   "source": [
    "print(c)\n",
    "print(len(c))\n"
   ]
  },
  {
   "cell_type": "code",
   "execution_count": 24,
   "metadata": {},
   "outputs": [],
   "source": [
    "import pickle\n",
    "with open(\"genes_to_keep.pickle\", \"wb\") as f:\n",
    "    pickle.dump(c,f)\n",
    "    "
   ]
  },
  {
   "cell_type": "code",
   "execution_count": 4,
   "metadata": {},
   "outputs": [
    {
     "data": {
      "text/html": [
       "<div>\n",
       "<style scoped>\n",
       "    .dataframe tbody tr th:only-of-type {\n",
       "        vertical-align: middle;\n",
       "    }\n",
       "\n",
       "    .dataframe tbody tr th {\n",
       "        vertical-align: top;\n",
       "    }\n",
       "\n",
       "    .dataframe thead th {\n",
       "        text-align: right;\n",
       "    }\n",
       "</style>\n",
       "<table border=\"1\" class=\"dataframe\">\n",
       "  <thead>\n",
       "    <tr style=\"text-align: right;\">\n",
       "      <th></th>\n",
       "      <th>feature</th>\n",
       "      <th>importance</th>\n",
       "    </tr>\n",
       "  </thead>\n",
       "  <tbody>\n",
       "    <tr>\n",
       "      <th>9415</th>\n",
       "      <td>DHX32</td>\n",
       "      <td>0.001923</td>\n",
       "    </tr>\n",
       "    <tr>\n",
       "      <th>3097</th>\n",
       "      <td>CFD</td>\n",
       "      <td>0.001626</td>\n",
       "    </tr>\n",
       "    <tr>\n",
       "      <th>5263</th>\n",
       "      <td>CD24</td>\n",
       "      <td>0.001560</td>\n",
       "    </tr>\n",
       "    <tr>\n",
       "      <th>7613</th>\n",
       "      <td>CD3D</td>\n",
       "      <td>0.001460</td>\n",
       "    </tr>\n",
       "    <tr>\n",
       "      <th>2683</th>\n",
       "      <td>MYB</td>\n",
       "      <td>0.001057</td>\n",
       "    </tr>\n",
       "    <tr>\n",
       "      <th>...</th>\n",
       "      <td>...</td>\n",
       "      <td>...</td>\n",
       "    </tr>\n",
       "    <tr>\n",
       "      <th>3405</th>\n",
       "      <td>NRXN3</td>\n",
       "      <td>-0.000846</td>\n",
       "    </tr>\n",
       "    <tr>\n",
       "      <th>11292</th>\n",
       "      <td>BATF3</td>\n",
       "      <td>-0.000905</td>\n",
       "    </tr>\n",
       "    <tr>\n",
       "      <th>8128</th>\n",
       "      <td>ZNF423</td>\n",
       "      <td>-0.000946</td>\n",
       "    </tr>\n",
       "    <tr>\n",
       "      <th>12145</th>\n",
       "      <td>LEF1</td>\n",
       "      <td>-0.001266</td>\n",
       "    </tr>\n",
       "    <tr>\n",
       "      <th>5776</th>\n",
       "      <td>GATA3</td>\n",
       "      <td>-0.001520</td>\n",
       "    </tr>\n",
       "  </tbody>\n",
       "</table>\n",
       "<p>12708 rows × 2 columns</p>\n",
       "</div>"
      ],
      "text/plain": [
       "      feature  importance\n",
       "9415    DHX32    0.001923\n",
       "3097      CFD    0.001626\n",
       "5263     CD24    0.001560\n",
       "7613     CD3D    0.001460\n",
       "2683      MYB    0.001057\n",
       "...       ...         ...\n",
       "3405    NRXN3   -0.000846\n",
       "11292   BATF3   -0.000905\n",
       "8128   ZNF423   -0.000946\n",
       "12145    LEF1   -0.001266\n",
       "5776    GATA3   -0.001520\n",
       "\n",
       "[12708 rows x 2 columns]"
      ]
     },
     "execution_count": 4,
     "metadata": {},
     "output_type": "execute_result"
    }
   ],
   "source": [
    "a"
   ]
  },
  {
   "cell_type": "code",
   "execution_count": 5,
   "metadata": {},
   "outputs": [
    {
     "data": {
      "text/html": [
       "<div>\n",
       "<style scoped>\n",
       "    .dataframe tbody tr th:only-of-type {\n",
       "        vertical-align: middle;\n",
       "    }\n",
       "\n",
       "    .dataframe tbody tr th {\n",
       "        vertical-align: top;\n",
       "    }\n",
       "\n",
       "    .dataframe thead th {\n",
       "        text-align: right;\n",
       "    }\n",
       "</style>\n",
       "<table border=\"1\" class=\"dataframe\">\n",
       "  <thead>\n",
       "    <tr style=\"text-align: right;\">\n",
       "      <th></th>\n",
       "      <th>feature</th>\n",
       "      <th>importance</th>\n",
       "    </tr>\n",
       "  </thead>\n",
       "  <tbody>\n",
       "    <tr>\n",
       "      <th>8128</th>\n",
       "      <td>ZNF423</td>\n",
       "      <td>11.514235</td>\n",
       "    </tr>\n",
       "    <tr>\n",
       "      <th>3097</th>\n",
       "      <td>CFD</td>\n",
       "      <td>11.375029</td>\n",
       "    </tr>\n",
       "    <tr>\n",
       "      <th>5603</th>\n",
       "      <td>PLAGL1</td>\n",
       "      <td>8.258013</td>\n",
       "    </tr>\n",
       "    <tr>\n",
       "      <th>5834</th>\n",
       "      <td>GATA2</td>\n",
       "      <td>3.495317</td>\n",
       "    </tr>\n",
       "    <tr>\n",
       "      <th>5046</th>\n",
       "      <td>HMHB1</td>\n",
       "      <td>2.925717</td>\n",
       "    </tr>\n",
       "    <tr>\n",
       "      <th>...</th>\n",
       "      <td>...</td>\n",
       "      <td>...</td>\n",
       "    </tr>\n",
       "    <tr>\n",
       "      <th>4316</th>\n",
       "      <td>EN2</td>\n",
       "      <td>0.000000</td>\n",
       "    </tr>\n",
       "    <tr>\n",
       "      <th>4317</th>\n",
       "      <td>ERN1</td>\n",
       "      <td>0.000000</td>\n",
       "    </tr>\n",
       "    <tr>\n",
       "      <th>4318</th>\n",
       "      <td>IAPP</td>\n",
       "      <td>0.000000</td>\n",
       "    </tr>\n",
       "    <tr>\n",
       "      <th>4319</th>\n",
       "      <td>TTTY14</td>\n",
       "      <td>0.000000</td>\n",
       "    </tr>\n",
       "    <tr>\n",
       "      <th>12707</th>\n",
       "      <td>MIR3648-1</td>\n",
       "      <td>0.000000</td>\n",
       "    </tr>\n",
       "  </tbody>\n",
       "</table>\n",
       "<p>12708 rows × 2 columns</p>\n",
       "</div>"
      ],
      "text/plain": [
       "         feature  importance\n",
       "8128      ZNF423   11.514235\n",
       "3097         CFD   11.375029\n",
       "5603      PLAGL1    8.258013\n",
       "5834       GATA2    3.495317\n",
       "5046       HMHB1    2.925717\n",
       "...          ...         ...\n",
       "4316         EN2    0.000000\n",
       "4317        ERN1    0.000000\n",
       "4318        IAPP    0.000000\n",
       "4319      TTTY14    0.000000\n",
       "12707  MIR3648-1    0.000000\n",
       "\n",
       "[12708 rows x 2 columns]"
      ]
     },
     "execution_count": 5,
     "metadata": {},
     "output_type": "execute_result"
    }
   ],
   "source": [
    "b"
   ]
  },
  {
   "cell_type": "code",
   "execution_count": 7,
   "metadata": {},
   "outputs": [],
   "source": [
    "def show_imp(di,di0,k):\n",
    "    %matplotlib inline \n",
    "    import matplotlib.pyplot as plt\n",
    "    import shap\n",
    "    dfi = di.head(k)\n",
    "    # feats importance\n",
    "    plt.rcParams[\"figure.figsize\"] = (12,7)\n",
    "    ax = dfi.plot('feature', 'importance', kind='bar', color='c')\n",
    "    ax.set_title(\"Feature Importance of CatBoost\", fontsize = 14)\n",
    "    plt.show()\n",
    "    print(\". - .\")\n",
    "    print(\" \")\n",
    "    # feats importance LossFunctionChange\n",
    "    dfi0 = di0.head(k)\n",
    "    plt.rcParams[\"figure.figsize\"] = (12,7)\n",
    "    ax1 = dfi0.plot('feature', 'importance', kind='bar', color='m')\n",
    "    ax1.set_title(\"Feature Importance of LossFunctionChange\", fontsize = 14)"
   ]
  },
  {
   "cell_type": "code",
   "execution_count": 8,
   "metadata": {},
   "outputs": [
    {
     "data": {
      "image/png": "[encoded data removed]",
      "text/plain": [
       "<Figure size 864x504 with 1 Axes>"
      ]
     },
     "metadata": {
      "needs_background": "light"
     },
     "output_type": "display_data"
    },
    {
     "name": "stdout",
     "output_type": "stream",
     "text": [
      ". - .\n",
      " \n"
     ]
    },
    {
     "data": {
      "image/png": "[encoded data removed]",
      "text/plain": [
       "<Figure size 864x504 with 1 Axes>"
      ]
     },
     "metadata": {
      "needs_background": "light"
     },
     "output_type": "display_data"
    }
   ],
   "source": [
    "show_imp(a,b,no_genes)"
   ]
  },
  {
   "cell_type": "code",
   "execution_count": 9,
   "metadata": {},
   "outputs": [
    {
     "name": "stdout",
     "output_type": "stream",
     "text": [
      "Requirement already satisfied: shap in c:\\programdata\\anaconda3\\lib\\site-packages (0.40.0)\n",
      "Requirement already satisfied: pandas in c:\\programdata\\anaconda3\\lib\\site-packages (from shap) (1.3.4)\n",
      "Requirement already satisfied: slicer==0.0.7 in c:\\programdata\\anaconda3\\lib\\site-packages (from shap) (0.0.7)\n",
      "Requirement already satisfied: numba in c:\\programdata\\anaconda3\\lib\\site-packages (from shap) (0.54.1)\n",
      "Requirement already satisfied: numpy in c:\\programdata\\anaconda3\\lib\\site-packages (from shap) (1.20.3)\n",
      "Requirement already satisfied: packaging>20.9 in c:\\programdata\\anaconda3\\lib\\site-packages (from shap) (21.0)\n",
      "Requirement already satisfied: cloudpickle in c:\\programdata\\anaconda3\\lib\\site-packages (from shap) (2.0.0)\n",
      "Requirement already satisfied: scikit-learn in c:\\programdata\\anaconda3\\lib\\site-packages (from shap) (0.24.2)\n",
      "Requirement already satisfied: tqdm>4.25.0 in c:\\programdata\\anaconda3\\lib\\site-packages (from shap) (4.62.3)\n",
      "Requirement already satisfied: scipy in c:\\programdata\\anaconda3\\lib\\site-packages (from shap) (1.7.1)\n",
      "Requirement already satisfied: pyparsing>=2.0.2 in c:\\programdata\\anaconda3\\lib\\site-packages (from packaging>20.9->shap) (3.0.4)\n",
      "Requirement already satisfied: colorama in c:\\programdata\\anaconda3\\lib\\site-packages (from tqdm>4.25.0->shap) (0.4.4)\n",
      "Requirement already satisfied: llvmlite<0.38,>=0.37.0rc1 in c:\\programdata\\anaconda3\\lib\\site-packages (from numba->shap) (0.37.0)\n",
      "Requirement already satisfied: setuptools in c:\\programdata\\anaconda3\\lib\\site-packages (from numba->shap) (58.0.4)\n",
      "Requirement already satisfied: python-dateutil>=2.7.3 in c:\\programdata\\anaconda3\\lib\\site-packages (from pandas->shap) (2.8.2)\n",
      "Requirement already satisfied: pytz>=2017.3 in c:\\programdata\\anaconda3\\lib\\site-packages (from pandas->shap) (2021.3)\n",
      "Requirement already satisfied: six>=1.5 in c:\\programdata\\anaconda3\\lib\\site-packages (from python-dateutil>=2.7.3->pandas->shap) (1.16.0)\n",
      "Requirement already satisfied: joblib>=0.11 in c:\\programdata\\anaconda3\\lib\\site-packages (from scikit-learn->shap) (1.1.0)\n",
      "Requirement already satisfied: threadpoolctl>=2.0.0 in c:\\programdata\\anaconda3\\lib\\site-packages (from scikit-learn->shap) (2.2.0)\n",
      "Note: you may need to restart the kernel to use updated packages.\n"
     ]
    },
    {
     "name": "stderr",
     "output_type": "stream",
     "text": [
      "WARNING: You are using pip version 22.0.3; however, version 22.0.4 is available.\n",
      "You should consider upgrading via the 'C:\\ProgramData\\Anaconda3\\python.exe -m pip install --upgrade pip' command.\n"
     ]
    }
   ],
   "source": [
    "pip install shap"
   ]
  },
  {
   "cell_type": "code",
   "execution_count": null,
   "metadata": {},
   "outputs": [],
   "source": []
  }
 ],
 "metadata": {
  "kernelspec": {
   "display_name": "Python 3 (ipykernel)",
   "language": "python",
   "name": "python3"
  },
  "language_info": {
   "codemirror_mode": {
    "name": "ipython",
    "version": 3
   },
   "file_extension": ".py",
   "mimetype": "text/x-python",
   "name": "python",
   "nbconvert_exporter": "python",
   "pygments_lexer": "ipython3",
   "version": "3.9.7"
  }
 },
 "nbformat": 4,
 "nbformat_minor": 4
}
