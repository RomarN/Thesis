{
 "cells": [
  {
   "cell_type": "code",
   "execution_count": 1,
   "metadata": {},
   "outputs": [],
   "source": [
    "import pandas as pd\n",
    "from catboost import CatBoostClassifier\n",
    "from sklearn.model_selection import train_test_split\n",
    "from catboost import Pool, cv\n",
    "random_state = 7\n",
    "import time\n",
    "from sklearn.model_selection import StratifiedKFold\n",
    "from sklearn.metrics import f1_score\n",
    "import os\n",
    "from sklearn.metrics import roc_auc_score\n",
    "from sklearn.metrics import confusion_matrix\n",
    "import warnings\n",
    "import numpy as np\n",
    "warnings.filterwarnings(\"ignore\")"
   ]
  },
  {
   "cell_type": "code",
   "execution_count": 2,
   "metadata": {},
   "outputs": [],
   "source": [
    "def find_intersection(tr, ts, iterations, learning_rate,depth, weight, no_genes=100):\n",
    "       # get current directory\n",
    "    path = os.getcwd()\n",
    "    parent = os.path.dirname(path)\n",
    "\n",
    "    train = pd.read_csv(parent + '\\Data\\\\' + tr + \".csv\")\n",
    "    test = pd.read_csv(parent + '\\Data\\\\' + ts + \".csv\")\n",
    "    \n",
    "    X_train = train.drop(\"target\", axis=1)\n",
    "    y_train = train[\"target\"]\n",
    "    \n",
    "    X_test  = test.drop(\"target\", axis=1)\n",
    "    y_test = test[\"target\"]\n",
    "    \n",
    "        # initialize Pool\n",
    "    train_pool = Pool(X_train, \n",
    "                      y_train)\n",
    "        # initialize Pool\n",
    "    test_pool = Pool(X_test, \n",
    "                      y_test)\n",
    "    \n",
    "    start_time = time.time()\n",
    "\n",
    "    model = CatBoostClassifier(iterations=iterations,\n",
    "                           depth=depth,\n",
    "                           learning_rate=learning_rate,\n",
    "                           loss_function='Logloss',\n",
    "                           class_weights=[weight, 1-weight],\n",
    "                           verbose=False)\n",
    "\n",
    "    model.fit(train_pool)\n",
    "    print(\"--- %s seconds ---\" % (time.time() - start_time))\n",
    "    \n",
    "    LossFunctionChange = CatBoostClassifier.get_feature_importance(model, type=\"LossFunctionChange\",data=test_pool)\n",
    "    ind_LossFunctionChange = np.argpartition(LossFunctionChange, -no_genes)[-no_genes:]\n",
    "    df_loss_function = pd.DataFrame()\n",
    "    df_loss_function[\"feature\"] = list(X_train.columns)\n",
    "    df_loss_function[\"importance\"] = LossFunctionChange\n",
    "    df_loss_function= df_loss_function.sort_values(by = \"importance\", ascending = False)\n",
    "    \n",
    "    PredictionValuesChange = CatBoostClassifier.get_feature_importance(model)\n",
    "    ind_PredictionValuesChange = np.argpartition(PredictionValuesChange, -no_genes)[-no_genes:]\n",
    "    \n",
    "    df_pred_value = pd.DataFrame()\n",
    "    df_pred_value[\"feature\"] = list(X_train.columns)\n",
    "    df_pred_value[\"importance\"] = PredictionValuesChange\n",
    "    df_pred_value = df_pred_value.sort_values(by = \"importance\", ascending = False)\n",
    "    \n",
    "    intersection = (X_train.columns[(np.intersect1d(ind_PredictionValuesChange, ind_LossFunctionChange))])\n",
    "    return df_loss_function, df_pred_value, intersection\n",
    "    "
   ]
  },
  {
   "cell_type": "code",
   "execution_count": 3,
   "metadata": {},
   "outputs": [
    {
     "name": "stdout",
     "output_type": "stream",
     "text": [
      "--- 138.7074007987976 seconds ---\n"
     ]
    }
   ],
   "source": [
    "tr = \"trainset_AMLvsALL_90_target_in\"\n",
    "ts = \"testset_AMLvsALL_10_target_in\"\n",
    "\n",
    "no_genes = 150\n",
    "\n",
    "a,b,c = find_intersection(tr, ts, 200, 0.4, 4, 0.5, no_genes )"
   ]
  },
  {
   "cell_type": "code",
   "execution_count": 4,
   "metadata": {},
   "outputs": [
    {
     "name": "stdout",
     "output_type": "stream",
     "text": [
      "Index(['CSRP1', 'SLC25A5', 'CD81', 'HK1', 'RPS10', 'ACTA2', 'SSR4', 'CD9',\n",
      "       'CTNNB1', 'IFITM1', 'HSPG2', 'HMCES', 'MOB4', 'P3H4', 'NRGN', 'RAB32',\n",
      "       'TMEM243', 'GOLIM4', 'TFF3', 'COL17A1', 'PTGS2', 'LCK', 'RHOH', 'CFD',\n",
      "       'C5', 'TPSB2', 'SYNGR3', 'RASGRP3', 'ADAM28', 'BLK', 'P2RY14',\n",
      "       'TNFRSF17', 'CEACAM8', 'PPP3CC', 'GIPC1', 'DGKZP1', 'ST7', 'CHIT1',\n",
      "       'C4B', 'AMY2B', 'POU3F3', 'TSPAN4', 'GLRX', 'PRKD2', 'PLAGL1', 'TM4SF1',\n",
      "       'GATA2', 'NCKAP1L', 'IDO1', 'PKLR', 'MGLL', 'NPIPB13', 'MYH10', 'SBF1',\n",
      "       'SPART', 'LCN2', 'PACS2', 'CD3D', 'EEF1A1P5', 'MARS', 'ZNF250', 'NOV',\n",
      "       'CTSW', 'CD7', 'XCL2', 'FBXW4P1', 'RIF1', 'TRPC6', 'PDCD6IPP2',\n",
      "       'CFAP20', 'TTC19', 'WDR26', 'CDCA4', 'POGLUT1', 'PDGFC', 'XKR8',\n",
      "       'ZBTB10', 'MICALL2', 'PGGHG', 'SEC61A2', 'CD177', 'NPR3', 'UGT2A3',\n",
      "       'SAMSN1', 'RPL22', 'TBX10', 'RTN2', 'CASKIN2'],\n",
      "      dtype='object')\n",
      "88\n"
     ]
    }
   ],
   "source": [
    "print(c)\n",
    "print(len(c))\n"
   ]
  },
  {
   "cell_type": "code",
   "execution_count": 5,
   "metadata": {},
   "outputs": [],
   "source": [
    "import pickle\n",
    "with open(\"genes_to_keep.pickle\", \"wb\") as f:\n",
    "    pickle.dump(c,f)\n",
    "    "
   ]
  },
  {
   "cell_type": "code",
   "execution_count": 6,
   "metadata": {},
   "outputs": [
    {
     "data": {
      "text/html": [
       "<div>\n",
       "<style scoped>\n",
       "    .dataframe tbody tr th:only-of-type {\n",
       "        vertical-align: middle;\n",
       "    }\n",
       "\n",
       "    .dataframe tbody tr th {\n",
       "        vertical-align: top;\n",
       "    }\n",
       "\n",
       "    .dataframe thead th {\n",
       "        text-align: right;\n",
       "    }\n",
       "</style>\n",
       "<table border=\"1\" class=\"dataframe\">\n",
       "  <thead>\n",
       "    <tr style=\"text-align: right;\">\n",
       "      <th></th>\n",
       "      <th>feature</th>\n",
       "      <th>importance</th>\n",
       "    </tr>\n",
       "  </thead>\n",
       "  <tbody>\n",
       "    <tr>\n",
       "      <th>7011</th>\n",
       "      <td>SPART</td>\n",
       "      <td>0.003953</td>\n",
       "    </tr>\n",
       "    <tr>\n",
       "      <th>3732</th>\n",
       "      <td>BLK</td>\n",
       "      <td>0.002065</td>\n",
       "    </tr>\n",
       "    <tr>\n",
       "      <th>3097</th>\n",
       "      <td>CFD</td>\n",
       "      <td>0.001982</td>\n",
       "    </tr>\n",
       "    <tr>\n",
       "      <th>4833</th>\n",
       "      <td>ST7</td>\n",
       "      <td>0.001788</td>\n",
       "    </tr>\n",
       "    <tr>\n",
       "      <th>7954</th>\n",
       "      <td>CTSW</td>\n",
       "      <td>0.001555</td>\n",
       "    </tr>\n",
       "    <tr>\n",
       "      <th>...</th>\n",
       "      <td>...</td>\n",
       "      <td>...</td>\n",
       "    </tr>\n",
       "    <tr>\n",
       "      <th>7335</th>\n",
       "      <td>CHI3L2</td>\n",
       "      <td>-0.000809</td>\n",
       "    </tr>\n",
       "    <tr>\n",
       "      <th>11293</th>\n",
       "      <td>ARPP21</td>\n",
       "      <td>-0.000922</td>\n",
       "    </tr>\n",
       "    <tr>\n",
       "      <th>2683</th>\n",
       "      <td>MYB</td>\n",
       "      <td>-0.001272</td>\n",
       "    </tr>\n",
       "    <tr>\n",
       "      <th>12145</th>\n",
       "      <td>LEF1</td>\n",
       "      <td>-0.001551</td>\n",
       "    </tr>\n",
       "    <tr>\n",
       "      <th>6267</th>\n",
       "      <td>DNTT</td>\n",
       "      <td>-0.002694</td>\n",
       "    </tr>\n",
       "  </tbody>\n",
       "</table>\n",
       "<p>12708 rows × 2 columns</p>\n",
       "</div>"
      ],
      "text/plain": [
       "      feature  importance\n",
       "7011    SPART    0.003953\n",
       "3732      BLK    0.002065\n",
       "3097      CFD    0.001982\n",
       "4833      ST7    0.001788\n",
       "7954     CTSW    0.001555\n",
       "...       ...         ...\n",
       "7335   CHI3L2   -0.000809\n",
       "11293  ARPP21   -0.000922\n",
       "2683      MYB   -0.001272\n",
       "12145    LEF1   -0.001551\n",
       "6267     DNTT   -0.002694\n",
       "\n",
       "[12708 rows x 2 columns]"
      ]
     },
     "execution_count": 6,
     "metadata": {},
     "output_type": "execute_result"
    }
   ],
   "source": [
    "a"
   ]
  },
  {
   "cell_type": "code",
   "execution_count": 7,
   "metadata": {},
   "outputs": [
    {
     "data": {
      "text/html": [
       "<div>\n",
       "<style scoped>\n",
       "    .dataframe tbody tr th:only-of-type {\n",
       "        vertical-align: middle;\n",
       "    }\n",
       "\n",
       "    .dataframe tbody tr th {\n",
       "        vertical-align: top;\n",
       "    }\n",
       "\n",
       "    .dataframe thead th {\n",
       "        text-align: right;\n",
       "    }\n",
       "</style>\n",
       "<table border=\"1\" class=\"dataframe\">\n",
       "  <thead>\n",
       "    <tr style=\"text-align: right;\">\n",
       "      <th></th>\n",
       "      <th>feature</th>\n",
       "      <th>importance</th>\n",
       "    </tr>\n",
       "  </thead>\n",
       "  <tbody>\n",
       "    <tr>\n",
       "      <th>8128</th>\n",
       "      <td>ZNF423</td>\n",
       "      <td>8.971597</td>\n",
       "    </tr>\n",
       "    <tr>\n",
       "      <th>3097</th>\n",
       "      <td>CFD</td>\n",
       "      <td>7.086261</td>\n",
       "    </tr>\n",
       "    <tr>\n",
       "      <th>12145</th>\n",
       "      <td>LEF1</td>\n",
       "      <td>4.903860</td>\n",
       "    </tr>\n",
       "    <tr>\n",
       "      <th>9876</th>\n",
       "      <td>PDGFC</td>\n",
       "      <td>4.220162</td>\n",
       "    </tr>\n",
       "    <tr>\n",
       "      <th>10817</th>\n",
       "      <td>NPR3</td>\n",
       "      <td>4.127818</td>\n",
       "    </tr>\n",
       "    <tr>\n",
       "      <th>...</th>\n",
       "      <td>...</td>\n",
       "      <td>...</td>\n",
       "    </tr>\n",
       "    <tr>\n",
       "      <th>4322</th>\n",
       "      <td>HRC</td>\n",
       "      <td>0.000000</td>\n",
       "    </tr>\n",
       "    <tr>\n",
       "      <th>4323</th>\n",
       "      <td>HDC</td>\n",
       "      <td>0.000000</td>\n",
       "    </tr>\n",
       "    <tr>\n",
       "      <th>4324</th>\n",
       "      <td>ZFP37</td>\n",
       "      <td>0.000000</td>\n",
       "    </tr>\n",
       "    <tr>\n",
       "      <th>4325</th>\n",
       "      <td>RGR</td>\n",
       "      <td>0.000000</td>\n",
       "    </tr>\n",
       "    <tr>\n",
       "      <th>12707</th>\n",
       "      <td>MIR3648-1</td>\n",
       "      <td>0.000000</td>\n",
       "    </tr>\n",
       "  </tbody>\n",
       "</table>\n",
       "<p>12708 rows × 2 columns</p>\n",
       "</div>"
      ],
      "text/plain": [
       "         feature  importance\n",
       "8128      ZNF423    8.971597\n",
       "3097         CFD    7.086261\n",
       "12145       LEF1    4.903860\n",
       "9876       PDGFC    4.220162\n",
       "10817       NPR3    4.127818\n",
       "...          ...         ...\n",
       "4322         HRC    0.000000\n",
       "4323         HDC    0.000000\n",
       "4324       ZFP37    0.000000\n",
       "4325         RGR    0.000000\n",
       "12707  MIR3648-1    0.000000\n",
       "\n",
       "[12708 rows x 2 columns]"
      ]
     },
     "execution_count": 7,
     "metadata": {},
     "output_type": "execute_result"
    }
   ],
   "source": [
    "b"
   ]
  },
  {
   "cell_type": "code",
   "execution_count": 8,
   "metadata": {},
   "outputs": [],
   "source": [
    "def show_imp(di,di0,k):\n",
    "    %matplotlib inline \n",
    "    import matplotlib.pyplot as plt\n",
    "    import shap\n",
    "    dfi = di.head(k)\n",
    "    # feats importance\n",
    "    plt.rcParams[\"figure.figsize\"] = (12,7)\n",
    "    ax = dfi.plot('feature', 'importance', kind='bar', color='c')\n",
    "    ax.set_title(\"Feature Importance of CatBoost\", fontsize = 14)\n",
    "    plt.show()\n",
    "    print(\". - .\")\n",
    "    print(\" \")\n",
    "    # feats importance LossFunctionChange\n",
    "    dfi0 = di0.head(k)\n",
    "    plt.rcParams[\"figure.figsize\"] = (12,7)\n",
    "    ax1 = dfi0.plot('feature', 'importance', kind='bar', color='m')\n",
    "    ax1.set_title(\"Feature Importance of LossFunctionChange\", fontsize = 14)"
   ]
  },
  {
   "cell_type": "code",
   "execution_count": 9,
   "metadata": {},
   "outputs": [
    {
     "ename": "ModuleNotFoundError",
     "evalue": "No module named 'shap'",
     "output_type": "error",
     "traceback": [
      "\u001b[1;31m---------------------------------------------------------------------------\u001b[0m",
      "\u001b[1;31mModuleNotFoundError\u001b[0m                       Traceback (most recent call last)",
      "\u001b[1;32mC:\\Users\\ROMARN~1\\AppData\\Local\\Temp/ipykernel_12748/854401172.py\u001b[0m in \u001b[0;36m<module>\u001b[1;34m\u001b[0m\n\u001b[1;32m----> 1\u001b[1;33m \u001b[0mshow_imp\u001b[0m\u001b[1;33m(\u001b[0m\u001b[0ma\u001b[0m\u001b[1;33m,\u001b[0m\u001b[0mb\u001b[0m\u001b[1;33m,\u001b[0m\u001b[0mno_genes\u001b[0m\u001b[1;33m)\u001b[0m\u001b[1;33m\u001b[0m\u001b[1;33m\u001b[0m\u001b[0m\n\u001b[0m",
      "\u001b[1;32mC:\\Users\\ROMARN~1\\AppData\\Local\\Temp/ipykernel_12748/3736560925.py\u001b[0m in \u001b[0;36mshow_imp\u001b[1;34m(di, di0, k)\u001b[0m\n\u001b[0;32m      2\u001b[0m     \u001b[0mget_ipython\u001b[0m\u001b[1;33m(\u001b[0m\u001b[1;33m)\u001b[0m\u001b[1;33m.\u001b[0m\u001b[0mrun_line_magic\u001b[0m\u001b[1;33m(\u001b[0m\u001b[1;34m'matplotlib'\u001b[0m\u001b[1;33m,\u001b[0m \u001b[1;34m'inline'\u001b[0m\u001b[1;33m)\u001b[0m\u001b[1;33m\u001b[0m\u001b[1;33m\u001b[0m\u001b[0m\n\u001b[0;32m      3\u001b[0m     \u001b[1;32mimport\u001b[0m \u001b[0mmatplotlib\u001b[0m\u001b[1;33m.\u001b[0m\u001b[0mpyplot\u001b[0m \u001b[1;32mas\u001b[0m \u001b[0mplt\u001b[0m\u001b[1;33m\u001b[0m\u001b[1;33m\u001b[0m\u001b[0m\n\u001b[1;32m----> 4\u001b[1;33m     \u001b[1;32mimport\u001b[0m \u001b[0mshap\u001b[0m\u001b[1;33m\u001b[0m\u001b[1;33m\u001b[0m\u001b[0m\n\u001b[0m\u001b[0;32m      5\u001b[0m     \u001b[0mdfi\u001b[0m \u001b[1;33m=\u001b[0m \u001b[0mdi\u001b[0m\u001b[1;33m.\u001b[0m\u001b[0mhead\u001b[0m\u001b[1;33m(\u001b[0m\u001b[0mk\u001b[0m\u001b[1;33m)\u001b[0m\u001b[1;33m\u001b[0m\u001b[1;33m\u001b[0m\u001b[0m\n\u001b[0;32m      6\u001b[0m     \u001b[1;31m# feats importance\u001b[0m\u001b[1;33m\u001b[0m\u001b[1;33m\u001b[0m\u001b[0m\n",
      "\u001b[1;31mModuleNotFoundError\u001b[0m: No module named 'shap'"
     ]
    }
   ],
   "source": [
    "show_imp(a,b,no_genes)"
   ]
  },
  {
   "cell_type": "code",
   "execution_count": 10,
   "metadata": {},
   "outputs": [
    {
     "name": "stdout",
     "output_type": "stream",
     "text": [
      "Collecting shapNote: you may need to restart the kernel to use updated packages.\n",
      "  Downloading shap-0.40.0-cp39-cp39-win_amd64.whl (432 kB)\n",
      "Requirement already satisfied: pandas in c:\\programdata\\anaconda3\\lib\\site-packages (from shap) (1.3.4)\n",
      "Requirement already satisfied: scipy in c:\\programdata\\anaconda3\\lib\\site-packages (from shap) (1.7.1)\n",
      "Requirement already satisfied: cloudpickle in c:\\programdata\\anaconda3\\lib\\site-packages (from shap) (2.0.0)\n",
      "Requirement already satisfied: tqdm>4.25.0 in c:\\programdata\\anaconda3\\lib\\site-packages (from shap) (4.62.3)\n",
      "Requirement already satisfied: numpy in c:\\programdata\\anaconda3\\lib\\site-packages (from shap) (1.20.3)\n",
      "Requirement already satisfied: numba in c:\\programdata\\anaconda3\\lib\\site-packages (from shap) (0.54.1)\n",
      "Requirement already satisfied: packaging>20.9 in c:\\programdata\\anaconda3\\lib\\site-packages (from shap) (21.0)\n",
      "Requirement already satisfied: scikit-learn in c:\\programdata\\anaconda3\\lib\\site-packages (from shap) (0.24.2)\n",
      "Collecting slicer==0.0.7\n",
      "  Downloading slicer-0.0.7-py3-none-any.whl (14 kB)\n",
      "Requirement already satisfied: pyparsing>=2.0.2 in c:\\programdata\\anaconda3\\lib\\site-packages (from packaging>20.9->shap) (3.0.4)\n",
      "Requirement already satisfied: colorama in c:\\programdata\\anaconda3\\lib\\site-packages (from tqdm>4.25.0->shap) (0.4.4)\n",
      "Requirement already satisfied: llvmlite<0.38,>=0.37.0rc1 in c:\\programdata\\anaconda3\\lib\\site-packages (from numba->shap) (0.37.0)\n",
      "Requirement already satisfied: setuptools in c:\\programdata\\anaconda3\\lib\\site-packages (from numba->shap) (58.0.4)\n",
      "Requirement already satisfied: pytz>=2017.3 in c:\\programdata\\anaconda3\\lib\\site-packages (from pandas->shap) (2021.3)\n",
      "Requirement already satisfied: python-dateutil>=2.7.3 in c:\\programdata\\anaconda3\\lib\\site-packages (from pandas->shap) (2.8.2)\n",
      "Requirement already satisfied: six>=1.5 in c:\\programdata\\anaconda3\\lib\\site-packages (from python-dateutil>=2.7.3->pandas->shap) (1.16.0)\n",
      "Requirement already satisfied: threadpoolctl>=2.0.0 in c:\\programdata\\anaconda3\\lib\\site-packages (from scikit-learn->shap) (2.2.0)\n",
      "Requirement already satisfied: joblib>=0.11 in c:\\programdata\\anaconda3\\lib\\site-packages (from scikit-learn->shap) (1.1.0)\n",
      "Installing collected packages: slicer, shap\n",
      "Successfully installed shap-0.40.0 slicer-0.0.7\n",
      "\n"
     ]
    },
    {
     "name": "stderr",
     "output_type": "stream",
     "text": [
      "WARNING: You are using pip version 22.0.3; however, version 22.0.4 is available.\n",
      "You should consider upgrading via the 'C:\\ProgramData\\Anaconda3\\python.exe -m pip install --upgrade pip' command.\n"
     ]
    }
   ],
   "source": [
    "pip install shap"
   ]
  }
 ],
 "metadata": {
  "kernelspec": {
   "display_name": "Python 3 (ipykernel)",
   "language": "python",
   "name": "python3"
  },
  "language_info": {
   "codemirror_mode": {
    "name": "ipython",
    "version": 3
   },
   "file_extension": ".py",
   "mimetype": "text/x-python",
   "name": "python",
   "nbconvert_exporter": "python",
   "pygments_lexer": "ipython3",
   "version": "3.9.7"
  }
 },
 "nbformat": 4,
 "nbformat_minor": 4
}
