{
 "cells": [
  {
   "cell_type": "code",
   "execution_count": 1,
   "id": "db3211d2-4980-464c-b7e3-d46fccb08de8",
   "metadata": {},
   "outputs": [],
   "source": [
    "import pandas as pd\n",
    "from catboost import CatBoostClassifier\n",
    "from sklearn.model_selection import train_test_split\n",
    "from catboost import Pool, cv\n",
    "random_state = 7\n",
    "import time\n",
    "from sklearn.model_selection import StratifiedKFold\n",
    "from sklearn.metrics import f1_score\n",
    "import os\n",
    "from sklearn.metrics import roc_auc_score\n",
    "from sklearn.metrics import confusion_matrix\n",
    "import warnings\n",
    "import numpy as np\n",
    "warnings.filterwarnings(\"ignore\")"
   ]
  },
  {
   "cell_type": "code",
   "execution_count": 13,
   "id": "3740d80b-5c34-4279-8c4e-f91244eaa7d1",
   "metadata": {},
   "outputs": [],
   "source": [
    "import pickle\n",
    "with open(\"genes_to_keep.pickle\", 'rb') as f:\n",
    "    keep_pickle = pickle.load(f)\n",
    "\n",
    "keep = []\n",
    "for item in keep_pickle:\n",
    "    keep.append(item)\n",
    "\n",
    "\n",
    "\n",
    "keep.append(\"target\")"
   ]
  },
  {
   "cell_type": "code",
   "execution_count": 14,
   "id": "85bd0997-32e5-4986-ab49-53969375555d",
   "metadata": {},
   "outputs": [
    {
     "data": {
      "text/plain": [
       "12"
      ]
     },
     "execution_count": 14,
     "metadata": {},
     "output_type": "execute_result"
    }
   ],
   "source": [
    "len(keep)"
   ]
  },
  {
   "cell_type": "code",
   "execution_count": 15,
   "id": "11302c8f-a4bb-42e1-8c4e-cfe2234da91e",
   "metadata": {},
   "outputs": [],
   "source": [
    "tr = \"trainset_ALLvsHealhy_80_target_in\"\n",
    "ts = \"testset_ALLvsHealthy_20_target_in\" \n",
    "\n",
    "# tr = \"trainset_AMLvsALL_90_target_in\"\n",
    "# ts = \"testset_AMLvsALL_10_target_in\"\n",
    "\n",
    "path = os.getcwd()\n",
    "parent = os.path.dirname(path)\n",
    "\n",
    "df_whole_train = pd.read_csv(parent + '\\Data\\\\' + tr + \".csv\")\n",
    "df_whole_test = pd.read_csv(parent + '\\Data\\\\' + ts + \".csv\")"
   ]
  },
  {
   "cell_type": "code",
   "execution_count": 16,
   "id": "dccd6d44-ae2c-45a5-a890-1c6788c4c041",
   "metadata": {},
   "outputs": [],
   "source": [
    "df_reduced_train = df_whole_train[keep]\n",
    "df_reduced_test = df_whole_test[keep]"
   ]
  },
  {
   "cell_type": "code",
   "execution_count": 17,
   "id": "e2899d65-11f5-4168-9efb-88c1bbde95b0",
   "metadata": {},
   "outputs": [],
   "source": [
    "df_reduced_train.to_csv(parent + '\\Data\\\\' + \"trainset_ALL_vs_Healthy_reduced_25_80_target_in.csv\", index=False)\n",
    "df_reduced_test.to_csv(parent + '\\Data\\\\' + \"testset_ALL_vs_Healthy_reduced_25_20_target_in.csv\", index=False)"
   ]
  },
  {
   "cell_type": "code",
   "execution_count": null,
   "id": "3c8edf41-9be9-4994-8b64-faeb88a75259",
   "metadata": {},
   "outputs": [],
   "source": []
  }
 ],
 "metadata": {
  "kernelspec": {
   "display_name": "Python 3 (ipykernel)",
   "language": "python",
   "name": "python3"
  },
  "language_info": {
   "codemirror_mode": {
    "name": "ipython",
    "version": 3
   },
   "file_extension": ".py",
   "mimetype": "text/x-python",
   "name": "python",
   "nbconvert_exporter": "python",
   "pygments_lexer": "ipython3",
   "version": "3.9.7"
  }
 },
 "nbformat": 4,
 "nbformat_minor": 5
}
