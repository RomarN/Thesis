{
 "cells": [
  {
   "cell_type": "code",
   "execution_count": 2,
   "id": "06a0c780-e6dd-462d-abca-d37068c4aa7c",
   "metadata": {},
   "outputs": [],
   "source": [
    "import pandas as pd\n",
    "from catboost import CatBoostClassifier\n",
    "from sklearn.model_selection import train_test_split\n",
    "from catboost import Pool, cv\n",
    "random_state = 7\n",
    "import time\n",
    "from sklearn.model_selection import StratifiedKFold\n",
    "from sklearn.metrics import f1_score\n",
    "import os\n",
    "from sklearn.metrics import roc_auc_score\n",
    "from sklearn.metrics import confusion_matrix\n",
    "import warnings\n",
    "import numpy as np\n",
    "warnings.filterwarnings(\"ignore\")\n",
    "from sklearn.decomposition import PCA"
   ]
  },
  {
   "cell_type": "code",
   "execution_count": 3,
   "id": "9d8d5bdf-6d0b-4654-b320-aae9155a1a0d",
   "metadata": {},
   "outputs": [],
   "source": [
    "tr = \"trainset_ALLvsHealthy_80_target_in\"\n",
    "ts = \"testset_ALLvsHealthy_20_target_in\"\n",
    "\n",
    "\n",
    "path = os.getcwd()\n",
    "parent = os.path.dirname(path)\n",
    "\n",
    "train = pd.read_csv(parent + '\\Data\\\\' + tr + \".csv\")\n",
    "test = pd.read_csv(parent + '\\Data\\\\' + ts + \".csv\")\n",
    "\n",
    "X_train = train.drop(\"target\", axis=1)\n",
    "y_train = train[\"target\"]\n",
    "\n",
    "X_test  = test.drop(\"target\", axis=1)\n",
    "y_test = test[\"target\"]"
   ]
  },
  {
   "cell_type": "code",
   "execution_count": 4,
   "id": "9c281d8a-1738-44e5-9812-144c5cb5ec91",
   "metadata": {},
   "outputs": [
    {
     "data": {
      "text/html": [
       "<div>\n",
       "<style scoped>\n",
       "    .dataframe tbody tr th:only-of-type {\n",
       "        vertical-align: middle;\n",
       "    }\n",
       "\n",
       "    .dataframe tbody tr th {\n",
       "        vertical-align: top;\n",
       "    }\n",
       "\n",
       "    .dataframe thead th {\n",
       "        text-align: right;\n",
       "    }\n",
       "</style>\n",
       "<table border=\"1\" class=\"dataframe\">\n",
       "  <thead>\n",
       "    <tr style=\"text-align: right;\">\n",
       "      <th></th>\n",
       "      <th>PAX8</th>\n",
       "      <th>CCL5</th>\n",
       "      <th>MMP14</th>\n",
       "      <th>DTX2P1-UPK3BP1-PMS2P11</th>\n",
       "      <th>BAD</th>\n",
       "      <th>PRPF8</th>\n",
       "      <th>CAPNS1</th>\n",
       "      <th>RPL35</th>\n",
       "      <th>EIF4G2</th>\n",
       "      <th>EIF3D</th>\n",
       "      <th>...</th>\n",
       "      <th>WNT6</th>\n",
       "      <th>RABEP2</th>\n",
       "      <th>FKBP15</th>\n",
       "      <th>LRCH4</th>\n",
       "      <th>MEX3D</th>\n",
       "      <th>BCAN</th>\n",
       "      <th>ACTB</th>\n",
       "      <th>GAPDH</th>\n",
       "      <th>MIR3648-2</th>\n",
       "      <th>MIR3648-1</th>\n",
       "    </tr>\n",
       "  </thead>\n",
       "  <tbody>\n",
       "    <tr>\n",
       "      <th>0</th>\n",
       "      <td>9.226723</td>\n",
       "      <td>5.117150</td>\n",
       "      <td>8.491649</td>\n",
       "      <td>9.348301</td>\n",
       "      <td>5.875613</td>\n",
       "      <td>9.295862</td>\n",
       "      <td>9.675503</td>\n",
       "      <td>11.531871</td>\n",
       "      <td>10.259727</td>\n",
       "      <td>10.391409</td>\n",
       "      <td>...</td>\n",
       "      <td>9.672278</td>\n",
       "      <td>4.788977</td>\n",
       "      <td>4.084023</td>\n",
       "      <td>8.915967</td>\n",
       "      <td>5.395083</td>\n",
       "      <td>8.373858</td>\n",
       "      <td>13.304803</td>\n",
       "      <td>12.959516</td>\n",
       "      <td>4.915874</td>\n",
       "      <td>5.329516</td>\n",
       "    </tr>\n",
       "    <tr>\n",
       "      <th>1</th>\n",
       "      <td>8.530320</td>\n",
       "      <td>4.247610</td>\n",
       "      <td>7.610530</td>\n",
       "      <td>8.471810</td>\n",
       "      <td>5.638450</td>\n",
       "      <td>8.793810</td>\n",
       "      <td>7.611230</td>\n",
       "      <td>12.693300</td>\n",
       "      <td>4.843120</td>\n",
       "      <td>10.954800</td>\n",
       "      <td>...</td>\n",
       "      <td>6.718540</td>\n",
       "      <td>7.260950</td>\n",
       "      <td>3.529740</td>\n",
       "      <td>9.003830</td>\n",
       "      <td>3.678160</td>\n",
       "      <td>7.914630</td>\n",
       "      <td>8.949770</td>\n",
       "      <td>12.130300</td>\n",
       "      <td>6.604680</td>\n",
       "      <td>7.575050</td>\n",
       "    </tr>\n",
       "    <tr>\n",
       "      <th>2</th>\n",
       "      <td>8.877018</td>\n",
       "      <td>6.451803</td>\n",
       "      <td>8.020933</td>\n",
       "      <td>9.195340</td>\n",
       "      <td>6.207559</td>\n",
       "      <td>10.745656</td>\n",
       "      <td>11.188523</td>\n",
       "      <td>11.879071</td>\n",
       "      <td>11.157626</td>\n",
       "      <td>11.472299</td>\n",
       "      <td>...</td>\n",
       "      <td>9.020160</td>\n",
       "      <td>7.820956</td>\n",
       "      <td>4.068599</td>\n",
       "      <td>9.428625</td>\n",
       "      <td>4.860965</td>\n",
       "      <td>7.723813</td>\n",
       "      <td>13.412749</td>\n",
       "      <td>13.483634</td>\n",
       "      <td>4.926242</td>\n",
       "      <td>4.882589</td>\n",
       "    </tr>\n",
       "    <tr>\n",
       "      <th>3</th>\n",
       "      <td>8.584717</td>\n",
       "      <td>6.713449</td>\n",
       "      <td>7.853111</td>\n",
       "      <td>9.162434</td>\n",
       "      <td>7.039554</td>\n",
       "      <td>10.731903</td>\n",
       "      <td>10.202020</td>\n",
       "      <td>11.445236</td>\n",
       "      <td>11.301316</td>\n",
       "      <td>11.210408</td>\n",
       "      <td>...</td>\n",
       "      <td>8.229422</td>\n",
       "      <td>7.666866</td>\n",
       "      <td>4.319417</td>\n",
       "      <td>11.022293</td>\n",
       "      <td>5.264262</td>\n",
       "      <td>7.970409</td>\n",
       "      <td>12.377522</td>\n",
       "      <td>13.269611</td>\n",
       "      <td>5.850407</td>\n",
       "      <td>7.515944</td>\n",
       "    </tr>\n",
       "    <tr>\n",
       "      <th>4</th>\n",
       "      <td>7.851270</td>\n",
       "      <td>11.817200</td>\n",
       "      <td>6.556220</td>\n",
       "      <td>8.590940</td>\n",
       "      <td>5.937720</td>\n",
       "      <td>9.549050</td>\n",
       "      <td>11.183100</td>\n",
       "      <td>12.968300</td>\n",
       "      <td>4.671820</td>\n",
       "      <td>10.946200</td>\n",
       "      <td>...</td>\n",
       "      <td>6.465610</td>\n",
       "      <td>7.201440</td>\n",
       "      <td>4.260580</td>\n",
       "      <td>7.466870</td>\n",
       "      <td>3.853250</td>\n",
       "      <td>6.874200</td>\n",
       "      <td>10.634400</td>\n",
       "      <td>11.704500</td>\n",
       "      <td>6.155690</td>\n",
       "      <td>10.497400</td>\n",
       "    </tr>\n",
       "    <tr>\n",
       "      <th>...</th>\n",
       "      <td>...</td>\n",
       "      <td>...</td>\n",
       "      <td>...</td>\n",
       "      <td>...</td>\n",
       "      <td>...</td>\n",
       "      <td>...</td>\n",
       "      <td>...</td>\n",
       "      <td>...</td>\n",
       "      <td>...</td>\n",
       "      <td>...</td>\n",
       "      <td>...</td>\n",
       "      <td>...</td>\n",
       "      <td>...</td>\n",
       "      <td>...</td>\n",
       "      <td>...</td>\n",
       "      <td>...</td>\n",
       "      <td>...</td>\n",
       "      <td>...</td>\n",
       "      <td>...</td>\n",
       "      <td>...</td>\n",
       "      <td>...</td>\n",
       "    </tr>\n",
       "    <tr>\n",
       "      <th>3493</th>\n",
       "      <td>7.502360</td>\n",
       "      <td>7.749920</td>\n",
       "      <td>5.717440</td>\n",
       "      <td>7.406710</td>\n",
       "      <td>5.959010</td>\n",
       "      <td>9.403450</td>\n",
       "      <td>10.486900</td>\n",
       "      <td>12.609100</td>\n",
       "      <td>5.226120</td>\n",
       "      <td>11.184900</td>\n",
       "      <td>...</td>\n",
       "      <td>5.543800</td>\n",
       "      <td>8.339750</td>\n",
       "      <td>5.129650</td>\n",
       "      <td>7.040380</td>\n",
       "      <td>4.979790</td>\n",
       "      <td>6.524060</td>\n",
       "      <td>11.822200</td>\n",
       "      <td>12.215900</td>\n",
       "      <td>6.615540</td>\n",
       "      <td>7.149340</td>\n",
       "    </tr>\n",
       "    <tr>\n",
       "      <th>3494</th>\n",
       "      <td>9.079070</td>\n",
       "      <td>5.301004</td>\n",
       "      <td>8.097681</td>\n",
       "      <td>9.646963</td>\n",
       "      <td>6.543292</td>\n",
       "      <td>9.924539</td>\n",
       "      <td>10.750554</td>\n",
       "      <td>12.735260</td>\n",
       "      <td>11.009925</td>\n",
       "      <td>11.488529</td>\n",
       "      <td>...</td>\n",
       "      <td>9.538459</td>\n",
       "      <td>7.410794</td>\n",
       "      <td>4.225883</td>\n",
       "      <td>9.854184</td>\n",
       "      <td>5.173081</td>\n",
       "      <td>7.790125</td>\n",
       "      <td>12.075731</td>\n",
       "      <td>12.444471</td>\n",
       "      <td>5.970986</td>\n",
       "      <td>5.765216</td>\n",
       "    </tr>\n",
       "    <tr>\n",
       "      <th>3495</th>\n",
       "      <td>8.293874</td>\n",
       "      <td>7.158424</td>\n",
       "      <td>7.343468</td>\n",
       "      <td>8.655112</td>\n",
       "      <td>6.651382</td>\n",
       "      <td>9.479439</td>\n",
       "      <td>9.937352</td>\n",
       "      <td>12.089717</td>\n",
       "      <td>11.119689</td>\n",
       "      <td>11.416018</td>\n",
       "      <td>...</td>\n",
       "      <td>7.955676</td>\n",
       "      <td>8.640319</td>\n",
       "      <td>4.608101</td>\n",
       "      <td>10.023447</td>\n",
       "      <td>4.766663</td>\n",
       "      <td>7.581861</td>\n",
       "      <td>12.898946</td>\n",
       "      <td>12.984298</td>\n",
       "      <td>7.074160</td>\n",
       "      <td>7.768212</td>\n",
       "    </tr>\n",
       "    <tr>\n",
       "      <th>3496</th>\n",
       "      <td>7.554640</td>\n",
       "      <td>7.163910</td>\n",
       "      <td>6.346470</td>\n",
       "      <td>7.720690</td>\n",
       "      <td>5.786180</td>\n",
       "      <td>9.515350</td>\n",
       "      <td>9.056850</td>\n",
       "      <td>12.864900</td>\n",
       "      <td>4.330190</td>\n",
       "      <td>10.688100</td>\n",
       "      <td>...</td>\n",
       "      <td>5.646120</td>\n",
       "      <td>8.787230</td>\n",
       "      <td>4.191130</td>\n",
       "      <td>6.983580</td>\n",
       "      <td>4.065720</td>\n",
       "      <td>7.002020</td>\n",
       "      <td>9.066200</td>\n",
       "      <td>11.221000</td>\n",
       "      <td>9.389810</td>\n",
       "      <td>9.395260</td>\n",
       "    </tr>\n",
       "    <tr>\n",
       "      <th>3497</th>\n",
       "      <td>7.683690</td>\n",
       "      <td>5.023010</td>\n",
       "      <td>6.791550</td>\n",
       "      <td>8.100410</td>\n",
       "      <td>6.112160</td>\n",
       "      <td>9.606980</td>\n",
       "      <td>9.691020</td>\n",
       "      <td>12.807700</td>\n",
       "      <td>5.420540</td>\n",
       "      <td>11.215500</td>\n",
       "      <td>...</td>\n",
       "      <td>6.357120</td>\n",
       "      <td>8.848860</td>\n",
       "      <td>4.955850</td>\n",
       "      <td>7.551230</td>\n",
       "      <td>3.039160</td>\n",
       "      <td>6.979870</td>\n",
       "      <td>10.741600</td>\n",
       "      <td>12.345000</td>\n",
       "      <td>5.775700</td>\n",
       "      <td>6.203110</td>\n",
       "    </tr>\n",
       "  </tbody>\n",
       "</table>\n",
       "<p>3498 rows × 12708 columns</p>\n",
       "</div>"
      ],
      "text/plain": [
       "          PAX8       CCL5     MMP14  DTX2P1-UPK3BP1-PMS2P11       BAD  \\\n",
       "0     9.226723   5.117150  8.491649                9.348301  5.875613   \n",
       "1     8.530320   4.247610  7.610530                8.471810  5.638450   \n",
       "2     8.877018   6.451803  8.020933                9.195340  6.207559   \n",
       "3     8.584717   6.713449  7.853111                9.162434  7.039554   \n",
       "4     7.851270  11.817200  6.556220                8.590940  5.937720   \n",
       "...        ...        ...       ...                     ...       ...   \n",
       "3493  7.502360   7.749920  5.717440                7.406710  5.959010   \n",
       "3494  9.079070   5.301004  8.097681                9.646963  6.543292   \n",
       "3495  8.293874   7.158424  7.343468                8.655112  6.651382   \n",
       "3496  7.554640   7.163910  6.346470                7.720690  5.786180   \n",
       "3497  7.683690   5.023010  6.791550                8.100410  6.112160   \n",
       "\n",
       "          PRPF8     CAPNS1      RPL35     EIF4G2      EIF3D  ...      WNT6  \\\n",
       "0      9.295862   9.675503  11.531871  10.259727  10.391409  ...  9.672278   \n",
       "1      8.793810   7.611230  12.693300   4.843120  10.954800  ...  6.718540   \n",
       "2     10.745656  11.188523  11.879071  11.157626  11.472299  ...  9.020160   \n",
       "3     10.731903  10.202020  11.445236  11.301316  11.210408  ...  8.229422   \n",
       "4      9.549050  11.183100  12.968300   4.671820  10.946200  ...  6.465610   \n",
       "...         ...        ...        ...        ...        ...  ...       ...   \n",
       "3493   9.403450  10.486900  12.609100   5.226120  11.184900  ...  5.543800   \n",
       "3494   9.924539  10.750554  12.735260  11.009925  11.488529  ...  9.538459   \n",
       "3495   9.479439   9.937352  12.089717  11.119689  11.416018  ...  7.955676   \n",
       "3496   9.515350   9.056850  12.864900   4.330190  10.688100  ...  5.646120   \n",
       "3497   9.606980   9.691020  12.807700   5.420540  11.215500  ...  6.357120   \n",
       "\n",
       "        RABEP2    FKBP15      LRCH4     MEX3D      BCAN       ACTB      GAPDH  \\\n",
       "0     4.788977  4.084023   8.915967  5.395083  8.373858  13.304803  12.959516   \n",
       "1     7.260950  3.529740   9.003830  3.678160  7.914630   8.949770  12.130300   \n",
       "2     7.820956  4.068599   9.428625  4.860965  7.723813  13.412749  13.483634   \n",
       "3     7.666866  4.319417  11.022293  5.264262  7.970409  12.377522  13.269611   \n",
       "4     7.201440  4.260580   7.466870  3.853250  6.874200  10.634400  11.704500   \n",
       "...        ...       ...        ...       ...       ...        ...        ...   \n",
       "3493  8.339750  5.129650   7.040380  4.979790  6.524060  11.822200  12.215900   \n",
       "3494  7.410794  4.225883   9.854184  5.173081  7.790125  12.075731  12.444471   \n",
       "3495  8.640319  4.608101  10.023447  4.766663  7.581861  12.898946  12.984298   \n",
       "3496  8.787230  4.191130   6.983580  4.065720  7.002020   9.066200  11.221000   \n",
       "3497  8.848860  4.955850   7.551230  3.039160  6.979870  10.741600  12.345000   \n",
       "\n",
       "      MIR3648-2  MIR3648-1  \n",
       "0      4.915874   5.329516  \n",
       "1      6.604680   7.575050  \n",
       "2      4.926242   4.882589  \n",
       "3      5.850407   7.515944  \n",
       "4      6.155690  10.497400  \n",
       "...         ...        ...  \n",
       "3493   6.615540   7.149340  \n",
       "3494   5.970986   5.765216  \n",
       "3495   7.074160   7.768212  \n",
       "3496   9.389810   9.395260  \n",
       "3497   5.775700   6.203110  \n",
       "\n",
       "[3498 rows x 12708 columns]"
      ]
     },
     "execution_count": 4,
     "metadata": {},
     "output_type": "execute_result"
    }
   ],
   "source": [
    "X_train"
   ]
  },
  {
   "cell_type": "code",
   "execution_count": 5,
   "id": "940959f0-82e8-42cf-9a1d-1c5fc24f340c",
   "metadata": {},
   "outputs": [
    {
     "data": {
      "text/plain": [
       "array([    0,     1,     2, ..., 12705, 12706, 12707])"
      ]
     },
     "execution_count": 5,
     "metadata": {},
     "output_type": "execute_result"
    }
   ],
   "source": [
    "np.arange(X_train.shape[-1])"
   ]
  },
  {
   "cell_type": "code",
   "execution_count": 6,
   "id": "b60dbd37-c00d-404e-993b-92f6b17965a8",
   "metadata": {},
   "outputs": [],
   "source": [
    "from sklearn.feature_selection import SelectKBest, f_classif\n",
    "\n",
    "selector = SelectKBest(f_classif, k=23)\n",
    "selector.fit(X_train, y_train)\n",
    "scores = -np.log10(selector.pvalues_)\n",
    "scores /= scores.max()"
   ]
  },
  {
   "cell_type": "code",
   "execution_count": 7,
   "id": "8b87430e-de28-4280-9ef6-03d7a6203963",
   "metadata": {},
   "outputs": [
    {
     "data": {
      "image/png": "[encoded data removed]",
      "text/plain": [
       "<Figure size 432x288 with 1 Axes>"
      ]
     },
     "metadata": {
      "needs_background": "light"
     },
     "output_type": "display_data"
    }
   ],
   "source": [
    "import matplotlib.pyplot as plt\n",
    "\n",
    "X_indices = np.arange(X_train.shape[-1])\n",
    "plt.figure(1)\n",
    "plt.clf()\n",
    "plt.bar(X_indices - 0.05, scores, width=0.2)\n",
    "plt.title(\"Feature univariate score\")\n",
    "plt.xlabel(\"Feature number\")\n",
    "plt.ylabel(r\"Univariate score ($-Log(p_{value})$)\")\n",
    "plt.show()"
   ]
  },
  {
   "cell_type": "code",
   "execution_count": 8,
   "id": "7e595b0a-3da0-4645-87a6-111205a66def",
   "metadata": {},
   "outputs": [
    {
     "data": {
      "text/plain": [
       "array([0.04111292, 0.09931482, 0.08201554, ..., 0.03535838, 0.06664881,\n",
       "       0.2053652 ])"
      ]
     },
     "execution_count": 8,
     "metadata": {},
     "output_type": "execute_result"
    }
   ],
   "source": [
    "scores"
   ]
  },
  {
   "cell_type": "code",
   "execution_count": 9,
   "id": "3cf28960-b62b-4960-b425-4e85419a8c3f",
   "metadata": {},
   "outputs": [],
   "source": [
    "count = np.count_nonzero(scores > .99)"
   ]
  },
  {
   "cell_type": "code",
   "execution_count": 10,
   "id": "5eda9c42-c25a-48d7-937a-4abd01c734ac",
   "metadata": {},
   "outputs": [
    {
     "data": {
      "text/plain": [
       "1"
      ]
     },
     "execution_count": 10,
     "metadata": {},
     "output_type": "execute_result"
    }
   ],
   "source": [
    "count"
   ]
  },
  {
   "cell_type": "code",
   "execution_count": 11,
   "id": "f7599d97-b7ce-4d97-abf6-4506512b1611",
   "metadata": {},
   "outputs": [],
   "source": [
    "ind = np.argpartition(scores, -23)[-23:]"
   ]
  },
  {
   "cell_type": "code",
   "execution_count": 12,
   "id": "1cf86a69-f38e-49d9-bdb6-9c7d9bfec2ca",
   "metadata": {},
   "outputs": [
    {
     "data": {
      "text/plain": [
       "array([0.45958956, 0.5695486 , 0.63438553, 0.56355295, 0.47891178,\n",
       "       1.        , 0.55085833, 0.88042254, 0.53343592, 0.51245459,\n",
       "       0.46168099, 0.49242662, 0.76627989, 0.52215821, 0.96487725,\n",
       "       0.50534698, 0.48433789, 0.50254305, 0.54906098, 0.48342184,\n",
       "       0.75072927, 0.491027  , 0.47593629])"
      ]
     },
     "execution_count": 12,
     "metadata": {},
     "output_type": "execute_result"
    }
   ],
   "source": [
    "scores[ind]"
   ]
  },
  {
   "cell_type": "code",
   "execution_count": 13,
   "id": "93a5140f-f5b6-4bc6-be1d-16ebbb472c7e",
   "metadata": {},
   "outputs": [
    {
     "data": {
      "text/plain": [
       "Index(['TRIM49B', 'SEPT10P1', 'GABPAP', 'SNORA66', 'KCNS3', 'NPY', 'SPANXC',\n",
       "       'GH2', 'MAP3K19', 'HMGB1P12', 'ALX1', 'PAICSP4', 'S100A11P1', 'GH1',\n",
       "       'HMGB3P1', 'HMGN2P9', 'IFNA13', 'RNU6-73P', 'RBMS2P1', 'LINC00472',\n",
       "       'PCDHGA3', 'EYA4', 'CES1P1'],\n",
       "      dtype='object')"
      ]
     },
     "execution_count": 13,
     "metadata": {},
     "output_type": "execute_result"
    }
   ],
   "source": [
    "X_train.columns[ind]"
   ]
  },
  {
   "cell_type": "code",
   "execution_count": 13,
   "id": "bbcff264-2749-4568-8d07-01fed24f8224",
   "metadata": {},
   "outputs": [],
   "source": [
    "all_reduced = pd.read_csv(parent + '\\Data\\\\' + \"testset_ALL_vs_Healthy_reduced_50_20_target_in\" + \".csv\")"
   ]
  },
  {
   "cell_type": "code",
   "execution_count": 14,
   "id": "356cefb5-5d15-4d00-94af-1d06492468a8",
   "metadata": {},
   "outputs": [],
   "source": [
    "columns_all_reduced = all_reduced.columns"
   ]
  },
  {
   "cell_type": "code",
   "execution_count": 15,
   "id": "58164dae-5402-4c79-9f20-452e940d9955",
   "metadata": {},
   "outputs": [
    {
     "data": {
      "text/plain": [
       "array([], dtype=object)"
      ]
     },
     "execution_count": 15,
     "metadata": {},
     "output_type": "execute_result"
    }
   ],
   "source": [
    "np.intersect1d(columns_all_reduced, columns_anova)"
   ]
  },
  {
   "cell_type": "code",
   "execution_count": 22,
   "id": "3a90fd29-4fc6-4441-9291-1fb36b2e6eb5",
   "metadata": {},
   "outputs": [],
   "source": [
    "from sklearn.feature_selection import chi2\n",
    "\n",
    "selector = SelectKBest(chi2, k=23)\n",
    "selector.fit(X_train, y_train)\n",
    "scores = -np.log10(selector.pvalues_)\n",
    "scores /= scores.max()"
   ]
  },
  {
   "cell_type": "code",
   "execution_count": 17,
   "id": "1bcf267c-5f96-4f37-85be-3fa53ebe8222",
   "metadata": {},
   "outputs": [
    {
     "data": {
      "image/png": "[encoded data removed]",
      "text/plain": [
       "<Figure size 432x288 with 1 Axes>"
      ]
     },
     "metadata": {
      "needs_background": "light"
     },
     "output_type": "display_data"
    }
   ],
   "source": [
    "import matplotlib.pyplot as plt\n",
    "\n",
    "X_indices = np.arange(X_train.shape[-1])\n",
    "plt.figure(1)\n",
    "plt.clf()\n",
    "plt.bar(X_indices - 0.05, scores, width=0.2)\n",
    "plt.title(\"Feature univariate score\")\n",
    "plt.xlabel(\"Feature number\")\n",
    "plt.ylabel(r\"Univariate score ($-Log(p_{value})$)\")\n",
    "plt.show()"
   ]
  },
  {
   "cell_type": "code",
   "execution_count": 26,
   "id": "7c6edb00-966f-4568-959a-7a3d4fbd63e5",
   "metadata": {},
   "outputs": [],
   "source": [
    "ind = np.argpartition(selector.pvalues_, -23)[-23:]"
   ]
  },
  {
   "cell_type": "code",
   "execution_count": 27,
   "id": "dd251a71-3d77-415e-b015-50c310985fe2",
   "metadata": {},
   "outputs": [
    {
     "data": {
      "text/plain": [
       "array([0., 0., 0., 0., 0., 0., 0., 0., 0., 0., 0., 0., 0., 0., 0., 0., 0.,\n",
       "       0., 0., 0., 0., 0., 0.])"
      ]
     },
     "execution_count": 27,
     "metadata": {},
     "output_type": "execute_result"
    }
   ],
   "source": [
    "scores[ind]"
   ]
  },
  {
   "cell_type": "code",
   "execution_count": 28,
   "id": "82fd1996-c034-43bc-bb4a-deadd4e7c696",
   "metadata": {},
   "outputs": [],
   "source": [
    "columns_anova= X_train.columns[ind]"
   ]
  },
  {
   "cell_type": "code",
   "execution_count": 29,
   "id": "b80ca8cc-934a-4fdb-87b1-1cf8b2e2dcc0",
   "metadata": {},
   "outputs": [
    {
     "data": {
      "text/plain": [
       "array([], dtype=object)"
      ]
     },
     "execution_count": 29,
     "metadata": {},
     "output_type": "execute_result"
    }
   ],
   "source": [
    "np.intersect1d(columns_all_reduced, columns_anova)"
   ]
  },
  {
   "cell_type": "code",
   "execution_count": 30,
   "id": "9f2193e1-6bc4-4886-ac8f-e45eac84c936",
   "metadata": {},
   "outputs": [
    {
     "data": {
      "text/plain": [
       "Index(['LRRC8E', 'RAB40A', 'HTR1D', 'OIP5', 'EPB41L1', 'ZNF750', 'TDGF1P3',\n",
       "       'TRPC5', 'SPP1', 'RBBP4P1', 'CALCB', 'PLA1A', 'LMAN1L', 'CAMK2A',\n",
       "       'COLEC11', 'SLC17A7', 'FOXC1', 'GRIN1', 'FAM224B', 'NACA2', 'RALYL',\n",
       "       'ACTG2', 'TMEM74B'],\n",
       "      dtype='object')"
      ]
     },
     "execution_count": 30,
     "metadata": {},
     "output_type": "execute_result"
    }
   ],
   "source": [
    "columns_anova"
   ]
  }
 ],
 "metadata": {
  "kernelspec": {
   "display_name": "Python 3 (ipykernel)",
   "language": "python",
   "name": "python3"
  },
  "language_info": {
   "codemirror_mode": {
    "name": "ipython",
    "version": 3
   },
   "file_extension": ".py",
   "mimetype": "text/x-python",
   "name": "python",
   "nbconvert_exporter": "python",
   "pygments_lexer": "ipython3",
   "version": "3.9.7"
  }
 },
 "nbformat": 4,
 "nbformat_minor": 5
}
