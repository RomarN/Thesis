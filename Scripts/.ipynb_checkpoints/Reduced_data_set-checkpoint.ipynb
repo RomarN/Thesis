{
 "cells": [
  {
   "cell_type": "code",
   "execution_count": 1,
   "id": "db3211d2-4980-464c-b7e3-d46fccb08de8",
   "metadata": {},
   "outputs": [],
   "source": [
    "import pandas as pd\n",
    "from catboost import CatBoostClassifier\n",
    "from sklearn.model_selection import train_test_split\n",
    "from catboost import Pool, cv\n",
    "random_state = 7\n",
    "import time\n",
    "from sklearn.model_selection import StratifiedKFold\n",
    "from sklearn.metrics import f1_score\n",
    "import os\n",
    "from sklearn.metrics import roc_auc_score\n",
    "from sklearn.metrics import confusion_matrix\n",
    "import warnings\n",
    "import numpy as np\n",
    "warnings.filterwarnings(\"ignore\")"
   ]
  },
  {
   "cell_type": "code",
   "execution_count": 6,
   "id": "3740d80b-5c34-4279-8c4e-f91244eaa7d1",
   "metadata": {},
   "outputs": [],
   "source": [
    "keep = ['CSRP1', 'SLC25A5', 'RPS10', 'ACTA2', 'IFITM1', 'HSPG2', 'MOB4', 'NRGN',\n",
    "       'RAB32', 'TMEM243', 'GOLIM4', 'TFF3', 'COL17A1', 'PTGS2', 'LCK', 'RHOH',\n",
    "       'CFD', 'TPSB2', 'SYNGR3', 'RASGRP3', 'ADAM28', 'BLK', 'PPP3CC', 'GIPC1',\n",
    "       'DGKZP1', 'ST7', 'CHIT1', 'TSPAN4', 'GLRX', 'PRKD2', 'PLAGL1', 'TM4SF1',\n",
    "       'GATA2', 'NCKAP1L', 'MGLL', 'NPIPB13', 'SBF1', 'SPART', 'LCN2', 'CD3D',\n",
    "       'MARS', 'NOV', 'CTSW', 'RIF1', 'TRPC6', 'PDCD6IPP2', 'TTC19', 'CDCA4',\n",
    "       'PDGFC', 'ZBTB10', 'MICALL2', 'PGGHG', 'SEC61A2', 'CD177', 'NPR3',\n",
    "       'RPL22', 'RTN2']\n",
    "keep.append(\"target\")"
   ]
  },
  {
   "cell_type": "code",
   "execution_count": 4,
   "id": "11302c8f-a4bb-42e1-8c4e-cfe2234da91e",
   "metadata": {},
   "outputs": [],
   "source": [
    "tr = \"trainset_AMLvsALL_90_target_in\"\n",
    "ts = \"testset_AMLvsALL_10_target_in\"\n",
    "\n",
    "path = os.getcwd()\n",
    "parent = os.path.dirname(path)\n",
    "\n",
    "df_whole_train = pd.read_csv(parent + '\\Data\\\\' + tr + \".csv\")\n",
    "df_whole_test = pd.read_csv(parent + '\\Data\\\\' + ts + \".csv\")"
   ]
  },
  {
   "cell_type": "code",
   "execution_count": 10,
   "id": "dccd6d44-ae2c-45a5-a890-1c6788c4c041",
   "metadata": {},
   "outputs": [],
   "source": [
    "df_reduced_train = df_whole_train[keep]\n",
    "df_reduced_test = df_whole_test[keep]"
   ]
  },
  {
   "cell_type": "code",
   "execution_count": null,
   "id": "e2899d65-11f5-4168-9efb-88c1bbde95b0",
   "metadata": {},
   "outputs": [],
   "source": []
  }
 ],
 "metadata": {
  "kernelspec": {
   "display_name": "Python 3 (ipykernel)",
   "language": "python",
   "name": "python3"
  },
  "language_info": {
   "codemirror_mode": {
    "name": "ipython",
    "version": 3
   },
   "file_extension": ".py",
   "mimetype": "text/x-python",
   "name": "python",
   "nbconvert_exporter": "python",
   "pygments_lexer": "ipython3",
   "version": "3.9.7"
  }
 },
 "nbformat": 4,
 "nbformat_minor": 5
}
