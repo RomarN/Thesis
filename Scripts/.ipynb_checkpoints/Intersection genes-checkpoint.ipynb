{
 "cells": [
  {
   "cell_type": "code",
   "execution_count": 1,
   "id": "5086de1e-20cf-4fd1-b850-7e664278fa19",
   "metadata": {},
   "outputs": [],
   "source": [
    "import pandas as pd\n",
    "from catboost import CatBoostClassifier\n",
    "from sklearn.model_selection import train_test_split\n",
    "from catboost import Pool, cv\n",
    "random_state = 7\n",
    "import time\n",
    "from sklearn.model_selection import StratifiedKFold\n",
    "from sklearn.metrics import f1_score\n",
    "import os\n",
    "from sklearn.metrics import roc_auc_score\n",
    "from sklearn.metrics import confusion_matrix\n",
    "import warnings\n",
    "import numpy as np\n",
    "warnings.filterwarnings(\"ignore\")"
   ]
  },
  {
   "cell_type": "code",
   "execution_count": 16,
   "id": "8437ef1a-6b16-4fca-839b-4263b823d76e",
   "metadata": {},
   "outputs": [],
   "source": [
    "tr = \"trainset_ALL_vs_Healthy_150\"\n",
    "\n",
    "path = os.getcwd()\n",
    "parent = os.path.dirname(path)\n",
    "\n",
    "df_all = pd.read_csv(parent + '\\Data\\\\' + tr + \".csv\")\n"
   ]
  },
  {
   "cell_type": "code",
   "execution_count": 17,
   "id": "6cc2e601-8e8e-4637-bdd8-2eecb25d52c6",
   "metadata": {},
   "outputs": [],
   "source": [
    "tr = \"trainset_AML_vs_ALL_175\"\n",
    "\n",
    "path = os.getcwd()\n",
    "parent = os.path.dirname(path)\n",
    "\n",
    "df_amlall = pd.read_csv(parent + '\\Data\\\\' + tr + \".csv\")\n"
   ]
  },
  {
   "cell_type": "code",
   "execution_count": 21,
   "id": "8e2c122a-c5d1-4e34-a86e-167439e7dc88",
   "metadata": {},
   "outputs": [],
   "source": [
    "tr = \"trainset_AML_vs_Healthy_100\"\n",
    "\n",
    "path = os.getcwd()\n",
    "parent = os.path.dirname(path)\n",
    "\n",
    "df_aml = pd.read_csv(parent + '\\Data\\\\' + tr + \".csv\")"
   ]
  },
  {
   "cell_type": "code",
   "execution_count": 18,
   "id": "452257b9-4f7f-43ab-9210-e85165732fd4",
   "metadata": {},
   "outputs": [
    {
     "data": {
      "text/plain": [
       "75"
      ]
     },
     "execution_count": 18,
     "metadata": {},
     "output_type": "execute_result"
    }
   ],
   "source": [
    "len(df_all.columns)"
   ]
  },
  {
   "cell_type": "code",
   "execution_count": 19,
   "id": "26d72d76-b334-450c-8222-3fcfa6243ccc",
   "metadata": {},
   "outputs": [
    {
     "data": {
      "text/plain": [
       "101"
      ]
     },
     "execution_count": 19,
     "metadata": {},
     "output_type": "execute_result"
    }
   ],
   "source": [
    "len(df_amlall.columns)"
   ]
  },
  {
   "cell_type": "code",
   "execution_count": 23,
   "id": "d8397263-a6e9-44de-8217-83a0b715f616",
   "metadata": {},
   "outputs": [
    {
     "data": {
      "text/plain": [
       "58"
      ]
     },
     "execution_count": 23,
     "metadata": {},
     "output_type": "execute_result"
    }
   ],
   "source": [
    "len(df_aml.columns)"
   ]
  },
  {
   "cell_type": "code",
   "execution_count": 20,
   "id": "2f8f946a-7bf9-418a-b6c3-fbfe79e82776",
   "metadata": {},
   "outputs": [
    {
     "data": {
      "text/plain": [
       "array(['ADAM28', 'AEBP1', 'CST3', 'SSBP2', 'target'], dtype=object)"
      ]
     },
     "execution_count": 20,
     "metadata": {},
     "output_type": "execute_result"
    }
   ],
   "source": [
    "(np.intersect1d(df_amlall.columns, df_all.columns))"
   ]
  },
  {
   "cell_type": "code",
   "execution_count": 24,
   "id": "f02b822f-77ef-408e-9c35-dfb00ca980e4",
   "metadata": {},
   "outputs": [
    {
     "data": {
      "text/plain": [
       "array(['LCN2', 'PRAME', 'VPREB1', 'target'], dtype=object)"
      ]
     },
     "execution_count": 24,
     "metadata": {},
     "output_type": "execute_result"
    }
   ],
   "source": [
    "(np.intersect1d(df_amlall.columns, df_aml.columns))"
   ]
  },
  {
   "cell_type": "code",
   "execution_count": 25,
   "id": "6ed5fd17-4547-4fa3-a520-d6fac70b9e46",
   "metadata": {},
   "outputs": [
    {
     "data": {
      "text/plain": [
       "array(['LPAR6', 'P2RX4', 'TGFBI', 'target'], dtype=object)"
      ]
     },
     "execution_count": 25,
     "metadata": {},
     "output_type": "execute_result"
    }
   ],
   "source": [
    "(np.intersect1d(df_all.columns, df_aml.columns))"
   ]
  }
 ],
 "metadata": {
  "kernelspec": {
   "display_name": "Python 3 (ipykernel)",
   "language": "python",
   "name": "python3"
  },
  "language_info": {
   "codemirror_mode": {
    "name": "ipython",
    "version": 3
   },
   "file_extension": ".py",
   "mimetype": "text/x-python",
   "name": "python",
   "nbconvert_exporter": "python",
   "pygments_lexer": "ipython3",
   "version": "3.9.7"
  }
 },
 "nbformat": 4,
 "nbformat_minor": 5
}
