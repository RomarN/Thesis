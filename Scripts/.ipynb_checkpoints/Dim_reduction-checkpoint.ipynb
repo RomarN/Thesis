{
 "cells": [
  {
   "cell_type": "code",
   "execution_count": 3,
   "metadata": {},
   "outputs": [],
   "source": [
    "import pandas as pd\n",
    "from catboost import CatBoostClassifier\n",
    "from sklearn.model_selection import train_test_split\n",
    "from catboost import Pool, cv\n",
    "random_state = 7\n",
    "import time\n",
    "from sklearn.model_selection import StratifiedKFold\n",
    "from sklearn.metrics import f1_score\n",
    "import os\n",
    "from sklearn.metrics import roc_auc_score\n",
    "from sklearn.metrics import confusion_matrix\n",
    "import warnings\n",
    "import numpy as np\n",
    "warnings.filterwarnings(\"ignore\")"
   ]
  },
  {
   "cell_type": "code",
   "execution_count": 4,
   "metadata": {},
   "outputs": [],
   "source": [
    "def find_intersection(tr, ts, iterations, learning_rate,depth, weigths, no_genes=100):\n",
    "       # get current directory\n",
    "    path = os.getcwd()\n",
    "    parent = os.path.dirname(path)\n",
    "\n",
    "    train = pd.read_csv(parent + '\\Data\\\\' + tr + \".csv\")\n",
    "    test = pd.read_csv(parent + '\\Data\\\\' + ts + \".csv\")\n",
    "    \n",
    "    X_train = train.drop(\"target\", axis=1)\n",
    "    y_train = train[\"target\"]\n",
    "    \n",
    "    X_test  = test.drop(\"target\", axis=1)\n",
    "    y_test = test[\"target\"]\n",
    "    \n",
    "        # initialize Pool\n",
    "    train_pool = Pool(X_train, \n",
    "                      y_train)\n",
    "        # initialize Pool\n",
    "    test_pool = Pool(X_test, \n",
    "                      y_test)\n",
    "    \n",
    "    start_time = time.time()\n",
    "\n",
    "    model = CatBoostClassifier(iterations=iterations,\n",
    "                           depth=depth,\n",
    "                           learning_rate=learning_rate,\n",
    "                           loss_function='Logloss',\n",
    "                           random_state=random_state,\n",
    "                           class_weights= weigths,\n",
    "                           verbose=False)\n",
    "\n",
    "    model.fit(train_pool)\n",
    "    print(\"--- %s seconds ---\" % (time.time() - start_time))\n",
    "    \n",
    "    LossFunctionChange = CatBoostClassifier.get_feature_importance(model, type=\"LossFunctionChange\",data=test_pool)\n",
    "    ind_LossFunctionChange = np.argpartition(LossFunctionChange, -no_genes)[-no_genes:]\n",
    "    df_loss_function = pd.DataFrame()\n",
    "    df_loss_function[\"feature\"] = list(X_train.columns)\n",
    "    df_loss_function[\"importance\"] = LossFunctionChange\n",
    "    df_loss_function= df_loss_function.sort_values(by = \"importance\", ascending = False)\n",
    "    \n",
    "    PredictionValuesChange = CatBoostClassifier.get_feature_importance(model)\n",
    "    ind_PredictionValuesChange = np.argpartition(PredictionValuesChange, -no_genes)[-no_genes:]\n",
    "    \n",
    "    df_pred_value = pd.DataFrame()\n",
    "    df_pred_value[\"feature\"] = list(X_train.columns)\n",
    "    df_pred_value[\"importance\"] = PredictionValuesChange\n",
    "    df_pred_value = df_pred_value.sort_values(by = \"importance\", ascending = False)\n",
    "    \n",
    "    intersection = (X_train.columns[(np.intersect1d(ind_PredictionValuesChange, ind_LossFunctionChange))])\n",
    "     \n",
    "    return df_loss_function, df_pred_value, intersection, LossFunctionChange,PredictionValuesChange,X_train.columns\n",
    "    "
   ]
  },
  {
   "cell_type": "code",
   "execution_count": 10,
   "metadata": {},
   "outputs": [
    {
     "name": "stdout",
     "output_type": "stream",
     "text": [
      "--- 1.501685380935669 seconds ---\n"
     ]
    }
   ],
   "source": [
    "# tr = \"trainset_AMLvsALL_90_target_in\"\n",
    "# ts = \"testset_AMLvsALL_10_target_in\"\n",
    "\n",
    "# # tr = \"trainset_ALLvsHealthy_80_target_in\"\n",
    "# ts = \"testset_ALLvsHealthy_20_target_in\" \n",
    "\n",
    "# tr = \"/datasets/TrainSet-82-12709_4041_TargetIn\"\n",
    "# ts = \"/datasets/TestSet-18-12709_4041_TargetIn\"\n",
    "\n",
    "# tr = \"trainset_AMLvsHealthy_80_target_in\"\n",
    "# ts = \"testset_AMLvsHealthy_20_target_in\" \n",
    "\n",
    "# tr = \"trainset_AML_vs_Healthy_100\"\n",
    "# ts = \"testset_AML_vs_Healthy_100\"\n",
    "\n",
    "tr = \"trainset_ALL_vs_Healthy_150\"\n",
    "ts = \"testset_ALL_vs_Healthy_150\"\n",
    "# tr = \"trainset_AML_vs_ALL_175\"\n",
    "# ts = \"testset_AML_vs_ALL_175\"\n",
    "\n",
    "\n",
    "no_genes = 74\n",
    "\n",
    "# a,b,c = find_intersection(tr, ts, 200, 0.4, 4, [1,1],  no_genes )  # aml vs all\n",
    "# a,b,c,d,e,f  = find_intersection(tr, ts, 300, 0.2, 3, [1,1],  no_genes )  # aml vs all\n",
    "# a,b,c,d,e,f  = find_intersection(tr, ts, 300, 0.2, 3, [1,1],  no_genes )  # aml vs all n =175\n",
    "\n",
    "\n",
    "# a,b,c,d,e,f = find_intersection(tr, ts, 200, 0.1, 4, [1, 0.26], no_genes )  # all vs healthy\n",
    "a,b,c,d,e,f = find_intersection(tr, ts, 200, 0.4, 4, [1, 0.26], no_genes )  # all vs healthy n = 150\n",
    "\n",
    "# a,b,c,d,e,f = find_intersection(tr,ts, 200, 0.1, 4, [0.82, 0.18],  no_genes) #aml vs healthy #Thanos\n",
    "# a,b,c,d,e,f = find_intersection(tr,ts, 200, 0.2, 4, [1, 0.22],  no_genes) #aml vs healthy #Romar\n",
    "# a,b,c,d,e,f = find_intersection(tr,ts, 200, 0.2, 3, [1, 0.22],  no_genes) #aml vs healthy n =100\n",
    "\n"
   ]
  },
  {
   "cell_type": "code",
   "execution_count": 22,
   "metadata": {},
   "outputs": [
    {
     "name": "stdout",
     "output_type": "stream",
     "text": [
      "Index(['CCL5', 'HLA-E', 'RCN1', 'TGFBI', 'MYBL2', 'CD14', 'NUP214',\n",
      "       'COMMD3-BMI1', 'EPS8', 'TRAFD1', 'IGF1R', 'PRAME', 'P2RX4',\n",
      "       'APOC4-APOC2', 'TFF3', 'FPR1', 'HOXB6', 'FAM50B', 'WT1', 'GP1BB',\n",
      "       'FLT3', 'EDIL3', 'GPR171', 'MAML3', 'CDKN2A', 'ASAH1', 'TBC1D9B',\n",
      "       'ALDH1A1', 'LCN2', 'COL4A5', 'CDC42BPA', 'GPR65', 'CHRM3', 'HOXA1',\n",
      "       'HBBP1', 'TRBV21-1', 'GOLM1', 'BZW2', 'DSG2', 'AKTIP', 'DNAAF5',\n",
      "       'LPAR6', 'SMYD3', 'DEPTOR', 'TIMM22', 'C3orf14', 'CXorf57', 'SLC27A5',\n",
      "       'PCDH9', 'NUDT11', 'VPREB3', 'PDZRN4', 'VPREB1', 'GDF15', 'CLIC4P1',\n",
      "       'SH3BP4', 'TCL1A'],\n",
      "      dtype='object')\n",
      "57\n"
     ]
    }
   ],
   "source": [
    "print(c)\n",
    "print(len(c))"
   ]
  },
  {
   "cell_type": "code",
   "execution_count": 6,
   "metadata": {},
   "outputs": [
    {
     "name": "stdout",
     "output_type": "stream",
     "text": [
      "Index(['CCL5', 'HLA-E', 'RCN1', 'TGFBI', 'MYBL2', 'CD14', 'NUP214',\n",
      "       'COMMD3-BMI1', 'EPS8', 'TRAFD1', 'IGF1R', 'PRAME', 'P2RX4',\n",
      "       'APOC4-APOC2', 'TFF3', 'FPR1', 'HOXB6', 'FAM50B', 'WT1', 'GP1BB',\n",
      "       'FLT3', 'EDIL3', 'GPR171', 'MAML3', 'CDKN2A', 'ASAH1', 'TBC1D9B',\n",
      "       'ALDH1A1', 'LCN2', 'COL4A5', 'CDC42BPA', 'GPR65', 'CHRM3', 'HOXA1',\n",
      "       'HBBP1', 'TRBV21-1', 'GOLM1', 'BZW2', 'DSG2', 'AKTIP', 'DNAAF5',\n",
      "       'LPAR6', 'SMYD3', 'DEPTOR', 'TIMM22', 'C3orf14', 'CXorf57', 'SLC27A5',\n",
      "       'PCDH9', 'NUDT11', 'VPREB3', 'PDZRN4', 'VPREB1', 'GDF15', 'CLIC4P1',\n",
      "       'SH3BP4', 'TCL1A'],\n",
      "      dtype='object')\n",
      "57\n"
     ]
    }
   ],
   "source": [
    "print(c)\n",
    "print(len(c))"
   ]
  },
  {
   "cell_type": "code",
   "execution_count": 33,
   "metadata": {},
   "outputs": [
    {
     "name": "stdout",
     "output_type": "stream",
     "text": [
      "Index(['RPL27', 'SLC25A5', 'DPYSL2', 'HSPA1A', 'SARS', 'CST3', 'PHGDH',\n",
      "       'HMCES', 'AEBP1', 'MPZL1', 'UBE2A', 'LTF', 'LTBR', 'TPP2', 'FCHSD2',\n",
      "       'SSBP2', 'NR1H3', 'PHACTR2', 'NRGN', 'PRAME', 'RAB32', 'TMEM243',\n",
      "       'NEO1', 'GOLIM4', 'PTGS2', 'MYB', 'LCK', 'RAMP1', 'RHOH', 'HOXB2',\n",
      "       'CD3E', 'CA1', 'ADAM28', 'CD33', 'GPR17', 'BLK', 'CYP4F3', 'KDM5D',\n",
      "       'CD3G', 'HMHB1', 'HPR', 'AMY2B', 'APLP2', 'DHX38', 'GLRX', 'PRKD2',\n",
      "       'PLAGL1', 'TM4SF1', 'DLK1', 'GATA2', 'BUB3', 'PCGF1', 'RPL39L', 'LAMA5',\n",
      "       'DLC1', 'NPIPB13', 'SBF1', 'LCN2', 'OLFM4', 'BBIP1', 'VAMP1', 'CD3D',\n",
      "       'RUFY3', 'CSPG4', 'CTSW', 'HIST1H4J', 'AZU1', 'TMED7', 'RIF1',\n",
      "       'IGHV5-51', 'PTGS1', 'MUC4', 'UBBP1', 'PDCD6IPP2', 'CHCHD2', 'BACE1',\n",
      "       'ARHGAP5', 'CCNB1IP1', 'FXYD5', 'DHX32', 'XKR8', 'PRKCH', 'C1RL',\n",
      "       'GALNT11', 'MICALL2', 'PGGHG', 'SYNE3', 'CD177', 'KREMEN2', 'ATP8B4',\n",
      "       'VPREB1', 'LEF1', 'SLC26A6', 'RPL22', 'RAB15', 'ADGRA2', 'MARCH8',\n",
      "       'PAX5', 'RTN2', 'MCF2L'],\n",
      "      dtype='object')\n"
     ]
    },
    {
     "data": {
      "text/plain": [
       "100"
      ]
     },
     "execution_count": 33,
     "metadata": {},
     "output_type": "execute_result"
    }
   ],
   "source": [
    "def find_intersection_genes(a,b,no_genes,f):\n",
    "    ind_PredictionValuesChange = np.argpartition(a, -no_genes)[-no_genes:]\n",
    "    ind_LossFunctionChange = np.argpartition(b, -no_genes)[-no_genes:]\n",
    "    intersection = (f[(np.intersect1d(ind_PredictionValuesChange, ind_LossFunctionChange))])\n",
    "    return intersection\n",
    "keep = find_intersection_genes(d,e,175,f)\n",
    "print(keep)\n",
    "len(keep)"
   ]
  },
  {
   "cell_type": "code",
   "execution_count": 97,
   "metadata": {},
   "outputs": [],
   "source": [
    "import pickle\n",
    "with open(\"genes_to_keep.pickle\", \"wb\") as file:\n",
    "    pickle.dump(keep,file)"
   ]
  },
  {
   "cell_type": "code",
   "execution_count": null,
   "metadata": {},
   "outputs": [],
   "source": []
  },
  {
   "cell_type": "code",
   "execution_count": 6,
   "metadata": {},
   "outputs": [],
   "source": []
  },
  {
   "cell_type": "code",
   "execution_count": 7,
   "metadata": {},
   "outputs": [
    {
     "data": {
      "text/html": [
       "<div>\n",
       "<style scoped>\n",
       "    .dataframe tbody tr th:only-of-type {\n",
       "        vertical-align: middle;\n",
       "    }\n",
       "\n",
       "    .dataframe tbody tr th {\n",
       "        vertical-align: top;\n",
       "    }\n",
       "\n",
       "    .dataframe thead th {\n",
       "        text-align: right;\n",
       "    }\n",
       "</style>\n",
       "<table border=\"1\" class=\"dataframe\">\n",
       "  <thead>\n",
       "    <tr style=\"text-align: right;\">\n",
       "      <th></th>\n",
       "      <th>feature</th>\n",
       "      <th>importance</th>\n",
       "    </tr>\n",
       "  </thead>\n",
       "  <tbody>\n",
       "    <tr>\n",
       "      <th>7613</th>\n",
       "      <td>CD3D</td>\n",
       "      <td>0.001119</td>\n",
       "    </tr>\n",
       "    <tr>\n",
       "      <th>12389</th>\n",
       "      <td>PAX5</td>\n",
       "      <td>0.000755</td>\n",
       "    </tr>\n",
       "    <tr>\n",
       "      <th>2207</th>\n",
       "      <td>NRGN</td>\n",
       "      <td>0.000593</td>\n",
       "    </tr>\n",
       "    <tr>\n",
       "      <th>2303</th>\n",
       "      <td>TMEM243</td>\n",
       "      <td>0.000568</td>\n",
       "    </tr>\n",
       "    <tr>\n",
       "      <th>5142</th>\n",
       "      <td>HPR</td>\n",
       "      <td>0.000555</td>\n",
       "    </tr>\n",
       "    <tr>\n",
       "      <th>...</th>\n",
       "      <td>...</td>\n",
       "      <td>...</td>\n",
       "    </tr>\n",
       "    <tr>\n",
       "      <th>7544</th>\n",
       "      <td>RPN2</td>\n",
       "      <td>-0.000535</td>\n",
       "    </tr>\n",
       "    <tr>\n",
       "      <th>1884</th>\n",
       "      <td>CSF3R</td>\n",
       "      <td>-0.000581</td>\n",
       "    </tr>\n",
       "    <tr>\n",
       "      <th>8402</th>\n",
       "      <td>BTN2A1</td>\n",
       "      <td>-0.000584</td>\n",
       "    </tr>\n",
       "    <tr>\n",
       "      <th>112</th>\n",
       "      <td>CTSA</td>\n",
       "      <td>-0.000590</td>\n",
       "    </tr>\n",
       "    <tr>\n",
       "      <th>6267</th>\n",
       "      <td>DNTT</td>\n",
       "      <td>-0.000617</td>\n",
       "    </tr>\n",
       "  </tbody>\n",
       "</table>\n",
       "<p>12708 rows × 2 columns</p>\n",
       "</div>"
      ],
      "text/plain": [
       "       feature  importance\n",
       "7613      CD3D    0.001119\n",
       "12389     PAX5    0.000755\n",
       "2207      NRGN    0.000593\n",
       "2303   TMEM243    0.000568\n",
       "5142       HPR    0.000555\n",
       "...        ...         ...\n",
       "7544      RPN2   -0.000535\n",
       "1884     CSF3R   -0.000581\n",
       "8402    BTN2A1   -0.000584\n",
       "112       CTSA   -0.000590\n",
       "6267      DNTT   -0.000617\n",
       "\n",
       "[12708 rows x 2 columns]"
      ]
     },
     "execution_count": 7,
     "metadata": {},
     "output_type": "execute_result"
    }
   ],
   "source": [
    "a"
   ]
  },
  {
   "cell_type": "code",
   "execution_count": 8,
   "metadata": {},
   "outputs": [
    {
     "data": {
      "text/html": [
       "<div>\n",
       "<style scoped>\n",
       "    .dataframe tbody tr th:only-of-type {\n",
       "        vertical-align: middle;\n",
       "    }\n",
       "\n",
       "    .dataframe tbody tr th {\n",
       "        vertical-align: top;\n",
       "    }\n",
       "\n",
       "    .dataframe thead th {\n",
       "        text-align: right;\n",
       "    }\n",
       "</style>\n",
       "<table border=\"1\" class=\"dataframe\">\n",
       "  <thead>\n",
       "    <tr style=\"text-align: right;\">\n",
       "      <th></th>\n",
       "      <th>feature</th>\n",
       "      <th>importance</th>\n",
       "    </tr>\n",
       "  </thead>\n",
       "  <tbody>\n",
       "    <tr>\n",
       "      <th>8128</th>\n",
       "      <td>ZNF423</td>\n",
       "      <td>6.707757</td>\n",
       "    </tr>\n",
       "    <tr>\n",
       "      <th>12145</th>\n",
       "      <td>LEF1</td>\n",
       "      <td>6.192613</td>\n",
       "    </tr>\n",
       "    <tr>\n",
       "      <th>5603</th>\n",
       "      <td>PLAGL1</td>\n",
       "      <td>5.771533</td>\n",
       "    </tr>\n",
       "    <tr>\n",
       "      <th>11333</th>\n",
       "      <td>ATP8B4</td>\n",
       "      <td>5.214474</td>\n",
       "    </tr>\n",
       "    <tr>\n",
       "      <th>10135</th>\n",
       "      <td>GALNT11</td>\n",
       "      <td>3.314477</td>\n",
       "    </tr>\n",
       "    <tr>\n",
       "      <th>...</th>\n",
       "      <td>...</td>\n",
       "      <td>...</td>\n",
       "    </tr>\n",
       "    <tr>\n",
       "      <th>4345</th>\n",
       "      <td>SAA2-SAA4</td>\n",
       "      <td>0.000000</td>\n",
       "    </tr>\n",
       "    <tr>\n",
       "      <th>4346</th>\n",
       "      <td>SLC17A2</td>\n",
       "      <td>0.000000</td>\n",
       "    </tr>\n",
       "    <tr>\n",
       "      <th>4348</th>\n",
       "      <td>CHM</td>\n",
       "      <td>0.000000</td>\n",
       "    </tr>\n",
       "    <tr>\n",
       "      <th>4349</th>\n",
       "      <td>AKR1D1</td>\n",
       "      <td>0.000000</td>\n",
       "    </tr>\n",
       "    <tr>\n",
       "      <th>12707</th>\n",
       "      <td>MIR3648-1</td>\n",
       "      <td>0.000000</td>\n",
       "    </tr>\n",
       "  </tbody>\n",
       "</table>\n",
       "<p>12708 rows × 2 columns</p>\n",
       "</div>"
      ],
      "text/plain": [
       "         feature  importance\n",
       "8128      ZNF423    6.707757\n",
       "12145       LEF1    6.192613\n",
       "5603      PLAGL1    5.771533\n",
       "11333     ATP8B4    5.214474\n",
       "10135    GALNT11    3.314477\n",
       "...          ...         ...\n",
       "4345   SAA2-SAA4    0.000000\n",
       "4346     SLC17A2    0.000000\n",
       "4348         CHM    0.000000\n",
       "4349      AKR1D1    0.000000\n",
       "12707  MIR3648-1    0.000000\n",
       "\n",
       "[12708 rows x 2 columns]"
      ]
     },
     "execution_count": 8,
     "metadata": {},
     "output_type": "execute_result"
    }
   ],
   "source": [
    "b"
   ]
  },
  {
   "cell_type": "code",
   "execution_count": 11,
   "metadata": {},
   "outputs": [],
   "source": [
    "def show_imp(di,di0,k):\n",
    "    %matplotlib inline \n",
    "    import matplotlib.pyplot as plt\n",
    "    import shap\n",
    "    import seaborn as sns\n",
    "    import os\n",
    "    path = os.getcwd()\n",
    "    parent = os.path.dirname(path)\n",
    "    dfi = di.head(k)\n",
    "    # feats importance\n",
    "    sns.set(rc = {'figure.figsize':(15,8)})\n",
    "    # ax = dfi.plot('feature', 'importance', kind='bar', color='c')\n",
    "    # ax.set_title(\"Feature Importance of CatBoost\", fontsize = 14)\n",
    "    sns.set_palette(\"deep\")\n",
    "    ax = sns.barplot(x=dfi[\"feature\"], y=dfi[\"importance\"], color='b')\n",
    "    ax.set_xticklabels(ax.get_xticklabels(),rotation = 90)\n",
    "    plt.savefig(parent + '/Figures/LossFunctionALLvsHealthyN150.eps', dpi=300)\n",
    "    print(\". - .\")\n",
    "    print(\" \")\n",
    "    # feats importance LossFunctionChange\n",
    "    dfi0 = di0.head(k)\n",
    "    # plt.rcParams[\"figure.figsize\"] = (15,8)\n",
    "    # ax1 = dfi0.plot('feature', 'importance', kind='bar', color='m')\n",
    "    # ax1.set_title(\"Feature Importance of LossFunctionChange\", foclass_weights= 14)\n",
    "    ax1 = sns.barplot(x=dfi0[\"feature\"], y=dfi0[\"importance\"], color=\"#DD8452\")\n",
    "    ax1.set_xticklabels(ax1.get_xticklabels(),rotation = 90)\n",
    "    plt.savefig(parent + '/Figures/PredictionChangeALLvsHealthyN150.eps',dpi=300)"
   ]
  },
  {
   "cell_type": "code",
   "execution_count": 12,
   "metadata": {},
   "outputs": [
    {
     "name": "stdout",
     "output_type": "stream",
     "text": [
      ". - .\n",
      " \n"
     ]
    },
    {
     "data": {
      "image/png": "[encoded data removed]",
      "text/plain": [
       "<Figure size 1080x576 with 1 Axes>"
      ]
     },
     "metadata": {},
     "output_type": "display_data"
    }
   ],
   "source": [
    "show_imp(a,b,100)"
   ]
  },
  {
   "cell_type": "code",
   "execution_count": 13,
   "metadata": {},
   "outputs": [
    {
     "data": {
      "image/png": "[encoded data removed]",
      "text/plain": [
       "<Figure size 1080x576 with 1 Axes>"
      ]
     },
     "metadata": {},
     "output_type": "display_data"
    }
   ],
   "source": [
    "import matplotlib.pyplot as plt\n",
    "import shap\n",
    "import seaborn as sns\n",
    "import os\n",
    "import matplotlib.pyplot as plt\n",
    "k = no_genes\n",
    "path = os.getcwd()\n",
    "parent = os.path.dirname(path)\n",
    "dfi = a.head(k)\n",
    "# feats importance\n",
    "sns.set(rc = {'figure.figsize':(15,8)})\n",
    "# ax = dfi.plot('feature', 'importance', kind='bar', color='c')\n",
    "# ax.set_title(\"Feature Importance of CatBoost\", fontsize = 14)\n",
    "sns.set_palette(\"deep\")\n",
    "ax = sns.barplot(x=dfi[\"feature\"], y=dfi[\"importance\"], color='b')\n",
    "ax = ax.set_xticklabels(ax.get_xticklabels(), rotation = 90)\n",
    "# plt.savefig(parent + '/Figures/LossChangeAMLvsALL.eps',       dpi=300)"
   ]
  },
  {
   "cell_type": "code",
   "execution_count": 74,
   "metadata": {},
   "outputs": [],
   "source": [
    "test = np.intersect1d(c, ['IGF1R', 'BACH2', 'FLT3', 'NDUFB7', 'EPS8', 'PCDH9', 'APOC4-APOC2', 'CXCL5', 'TBC1D9B', 'KDM7A', 'TCL1A', 'TPD52', 'ALDH1A1', 'GP1BB', 'LCN2', 'AOAH', 'CXorf57', 'AKTIP', 'CES1P1', 'CHRM3', 'DAB1', 'NUP214', 'CTDSPL', 'PF4', 'MAPK12', 'ASAH1', 'HHEX', 'S1PR4', 'ISG20', 'AVP', 'VPREB3', 'CDC14B', 'TRBV21-1', 'HBBP1', 'CRISP3', 'PRAME', 'PECR', 'RLN2', 'SERPINA1', 'TRAV21', 'CCNA1', 'NUDT11', 'CCL5', 'NXF3', 'GPKOW', 'ENTPD1', 'TIAM1', 'MYBL2', 'WT1', 'SYNE1', 'C3orf14', 'IFI27', 'TUBB1', 'HOXB6', 'ANAPC15', 'EGLN2', 'SPX'])"
   ]
  },
  {
   "cell_type": "code",
   "execution_count": 75,
   "metadata": {},
   "outputs": [
    {
     "data": {
      "text/plain": [
       "array(['AKTIP', 'ALDH1A1', 'APOC4-APOC2', 'ASAH1', 'C3orf14', 'CCL5',\n",
       "       'CHRM3', 'CXorf57', 'EPS8', 'FLT3', 'GP1BB', 'HBBP1', 'HOXB6',\n",
       "       'IGF1R', 'LCN2', 'MYBL2', 'NUDT11', 'NUP214', 'PCDH9', 'PRAME',\n",
       "       'TBC1D9B', 'TCL1A', 'TRBV21-1', 'VPREB3', 'WT1'], dtype=object)"
      ]
     },
     "execution_count": 75,
     "metadata": {},
     "output_type": "execute_result"
    }
   ],
   "source": [
    "test"
   ]
  },
  {
   "cell_type": "code",
   "execution_count": 37,
   "metadata": {},
   "outputs": [
    {
     "data": {
      "text/plain": [
       "7613        CD3D\n",
       "12389       PAX5\n",
       "2207        NRGN\n",
       "2303     TMEM243\n",
       "5142         HPR\n",
       "749        AEBP1\n",
       "7154       OLFM4\n",
       "6940        SBF1\n",
       "5834       GATA2\n",
       "2780        RHOH\n",
       "Name: feature, dtype: object"
      ]
     },
     "execution_count": 37,
     "metadata": {},
     "output_type": "execute_result"
    }
   ],
   "source": [
    "a[0:10].feature"
   ]
  },
  {
   "cell_type": "code",
   "execution_count": 38,
   "metadata": {},
   "outputs": [
    {
     "data": {
      "text/plain": [
       "8128      ZNF423\n",
       "12145       LEF1\n",
       "5603      PLAGL1\n",
       "11333     ATP8B4\n",
       "10135    GALNT11\n",
       "5834       GATA2\n",
       "7613        CD3D\n",
       "493         CST3\n",
       "9876       PDGFC\n",
       "2854         KIT\n",
       "Name: feature, dtype: object"
      ]
     },
     "execution_count": 38,
     "metadata": {},
     "output_type": "execute_result"
    }
   ],
   "source": [
    "b[0:10].feature"
   ]
  },
  {
   "cell_type": "code",
   "execution_count": 39,
   "metadata": {},
   "outputs": [
    {
     "data": {
      "text/plain": [
       "100"
      ]
     },
     "execution_count": 39,
     "metadata": {},
     "output_type": "execute_result"
    }
   ],
   "source": [
    "len(keep)"
   ]
  }
 ],
 "metadata": {
  "kernelspec": {
   "display_name": "Python 3 (ipykernel)",
   "language": "python",
   "name": "python3"
  },
  "language_info": {
   "codemirror_mode": {
    "name": "ipython",
    "version": 3
   },
   "file_extension": ".py",
   "mimetype": "text/x-python",
   "name": "python",
   "nbconvert_exporter": "python",
   "pygments_lexer": "ipython3",
   "version": "3.9.7"
  }
 },
 "nbformat": 4,
 "nbformat_minor": 4
}
